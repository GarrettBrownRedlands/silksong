{
 "cells": [
  {
   "cell_type": "markdown",
   "id": "a9215f5c-525b-4508-8b0d-700f55cbd252",
   "metadata": {},
   "source": [
    "## Introduction to Data Science\n",
    "\n",
    "#### University of Redlands - DATA 101\n",
    "#### Prof: Joanna Bieri [joanna_bieri@redlands.edu](mailto:joanna_bieri@redlands.edu)\n",
    "#### [Class Website: data101.joannabieri.com](https://joannabieri.com/data101.html)\n",
    "\n",
    "---------------------------------------\n",
    "# Homework Day 8\n",
    "---------------------------------------\n",
    "\n",
    "GOALS:\n",
    "\n",
    "1. Load data into Python that you find online\n",
    "2. Understand data types and fix some errors\n",
    "3. Find your own data to play with\n",
    "\n",
    "----------------------------------------------------------\n",
    "\n",
    "This homework has **5 questions** and **1 problem**.\n",
    "\n",
    "NOTE: Be kind to yourself. Working with data can be hard! Every data set is different. **Seriously** come get help! Come to lab!\n"
   ]
  },
  {
   "cell_type": "code",
   "execution_count": 1,
   "id": "049c24b6-a6c1-4ccc-b2de-5ea0366d09f8",
   "metadata": {},
   "outputs": [],
   "source": [
    "import numpy as np\n",
    "import pandas as pd\n",
    "\n",
    "import matplotlib.pyplot as plt\n",
    "import plotly.express as px\n",
    "from plotly.subplots import make_subplots\n",
    "import plotly.io as pio\n",
    "pio.renderers.defaule = 'colab'"
   ]
  },
  {
   "cell_type": "markdown",
   "id": "9c942910-0e2f-4428-95b6-1ca89c228405",
   "metadata": {},
   "source": [
    "You might need to install lxml. If you get a \"ImportError: Missing optional dependency 'lxml'\" Then uncomment and run the cell below"
   ]
  },
  {
   "cell_type": "code",
   "execution_count": 9,
   "id": "3d4ea0c4-7b90-48a6-bd63-684f33d12d79",
   "metadata": {},
   "outputs": [],
   "source": [
    "#!conda install -y lxml"
   ]
  },
  {
   "cell_type": "markdown",
   "id": "23773272-c059-4148-a5a8-91e9da594c46",
   "metadata": {},
   "source": [
    "## Try reading in some data - csv\n",
    "\n",
    "Go to the [Cal Fire Website](https://www.fire.ca.gov/incidents) and scroll to the bottom to see the Incident Data. We will download the file named **ALL DATA AS CSV** this should put the data file into your Downloads folder. \n",
    "\n",
    "Next you need to move the file **mapdataall.csv** from your Downloads folder into your Day8 folder where you are doing your homework. You can open your Downloads folder and drag the file into JupyterLab side bar. Then I can run the command\n",
    "\n",
    "    DF_raw = pd.read_csv('mapdataall.csv')\n",
    "\n",
    "to load the data and look at the data frame."
   ]
  },
  {
   "cell_type": "code",
   "execution_count": 37,
   "id": "e90fdd5f-bd17-4c94-b3f4-7ddc998bd001",
   "metadata": {},
   "outputs": [
    {
     "data": {
      "text/html": [
       "<div>\n",
       "<style scoped>\n",
       "    .dataframe tbody tr th:only-of-type {\n",
       "        vertical-align: middle;\n",
       "    }\n",
       "\n",
       "    .dataframe tbody tr th {\n",
       "        vertical-align: top;\n",
       "    }\n",
       "\n",
       "    .dataframe thead th {\n",
       "        text-align: right;\n",
       "    }\n",
       "</style>\n",
       "<table border=\"1\" class=\"dataframe\">\n",
       "  <thead>\n",
       "    <tr style=\"text-align: right;\">\n",
       "      <th></th>\n",
       "      <th>incident_name</th>\n",
       "      <th>incident_is_final</th>\n",
       "      <th>incident_date_last_update</th>\n",
       "      <th>incident_date_created</th>\n",
       "      <th>incident_administrative_unit</th>\n",
       "      <th>incident_administrative_unit_url</th>\n",
       "      <th>incident_county</th>\n",
       "      <th>incident_location</th>\n",
       "      <th>incident_acres_burned</th>\n",
       "      <th>incident_containment</th>\n",
       "      <th>...</th>\n",
       "      <th>incident_latitude</th>\n",
       "      <th>incident_type</th>\n",
       "      <th>incident_id</th>\n",
       "      <th>incident_url</th>\n",
       "      <th>incident_date_extinguished</th>\n",
       "      <th>incident_dateonly_extinguished</th>\n",
       "      <th>incident_dateonly_created</th>\n",
       "      <th>is_active</th>\n",
       "      <th>calfire_incident</th>\n",
       "      <th>notification_desired</th>\n",
       "    </tr>\n",
       "  </thead>\n",
       "  <tbody>\n",
       "    <tr>\n",
       "      <th>0</th>\n",
       "      <td>Bridge Fire</td>\n",
       "      <td>Y</td>\n",
       "      <td>2018-01-09T13:46:00Z</td>\n",
       "      <td>2017-10-31T11:22:00Z</td>\n",
       "      <td>Shasta-Trinity National Forest</td>\n",
       "      <td>NaN</td>\n",
       "      <td>Shasta</td>\n",
       "      <td>I-5 and Turntable Bay, 7 miles NE of Shasta Lake</td>\n",
       "      <td>37.0</td>\n",
       "      <td>100.0</td>\n",
       "      <td>...</td>\n",
       "      <td>40.774000</td>\n",
       "      <td>NaN</td>\n",
       "      <td>2ca11d45-8139-4c16-8af0-880d99b21e82</td>\n",
       "      <td>https://www.fire.ca.gov/incidents/2017/10/31/b...</td>\n",
       "      <td>2018-01-09T13:46:00Z</td>\n",
       "      <td>2018-01-09</td>\n",
       "      <td>2017-10-31</td>\n",
       "      <td>N</td>\n",
       "      <td>False</td>\n",
       "      <td>False</td>\n",
       "    </tr>\n",
       "    <tr>\n",
       "      <th>1</th>\n",
       "      <td>Pala Fire</td>\n",
       "      <td>Y</td>\n",
       "      <td>2020-09-16T14:07:35Z</td>\n",
       "      <td>2009-05-24T14:56:00Z</td>\n",
       "      <td>CAL FIRE San Diego Unit</td>\n",
       "      <td>NaN</td>\n",
       "      <td>San Diego</td>\n",
       "      <td>Hwy 76 and Pala Temecula, northwest of Pala</td>\n",
       "      <td>122.0</td>\n",
       "      <td>100.0</td>\n",
       "      <td>...</td>\n",
       "      <td>1.000000</td>\n",
       "      <td>Wildfire</td>\n",
       "      <td>8f61f461-552d-4538-b186-35ab030da416</td>\n",
       "      <td>https://www.fire.ca.gov/incidents/2009/5/24/pa...</td>\n",
       "      <td>2009-05-25T00:00:00Z</td>\n",
       "      <td>2009-05-25</td>\n",
       "      <td>2009-05-24</td>\n",
       "      <td>N</td>\n",
       "      <td>True</td>\n",
       "      <td>False</td>\n",
       "    </tr>\n",
       "    <tr>\n",
       "      <th>2</th>\n",
       "      <td>River Fire</td>\n",
       "      <td>Y</td>\n",
       "      <td>2022-10-24T11:39:23Z</td>\n",
       "      <td>2013-02-24T08:16:00Z</td>\n",
       "      <td>CAL FIRE San Bernardino Unit</td>\n",
       "      <td>NaN</td>\n",
       "      <td>Inyo</td>\n",
       "      <td>south of Narrow Gauge Rd &amp; north of Hwy 136, e...</td>\n",
       "      <td>407.0</td>\n",
       "      <td>100.0</td>\n",
       "      <td>...</td>\n",
       "      <td>36.602575</td>\n",
       "      <td>NaN</td>\n",
       "      <td>094719ba-a47b-4abb-9ec5-a506b2b9fd23</td>\n",
       "      <td>https://www.fire.ca.gov/incidents/2013/2/24/ri...</td>\n",
       "      <td>2013-02-28T20:00:00Z</td>\n",
       "      <td>2013-02-28</td>\n",
       "      <td>2013-02-24</td>\n",
       "      <td>N</td>\n",
       "      <td>True</td>\n",
       "      <td>False</td>\n",
       "    </tr>\n",
       "    <tr>\n",
       "      <th>3</th>\n",
       "      <td>Fawnskin Fire</td>\n",
       "      <td>Y</td>\n",
       "      <td>2013-04-22T09:00:00Z</td>\n",
       "      <td>2013-04-20T17:30:00Z</td>\n",
       "      <td>San Bernardino National Forest</td>\n",
       "      <td>NaN</td>\n",
       "      <td>San Bernardino</td>\n",
       "      <td>west of Delamar Mountain, north of the communi...</td>\n",
       "      <td>30.0</td>\n",
       "      <td>100.0</td>\n",
       "      <td>...</td>\n",
       "      <td>34.288877</td>\n",
       "      <td>NaN</td>\n",
       "      <td>58f89ff8-bd3e-4355-b1c0-8fa05c747d3f</td>\n",
       "      <td>https://www.fire.ca.gov/incidents/2013/4/20/fa...</td>\n",
       "      <td>2013-04-22T09:00:00Z</td>\n",
       "      <td>2013-04-22</td>\n",
       "      <td>2013-04-20</td>\n",
       "      <td>N</td>\n",
       "      <td>False</td>\n",
       "      <td>False</td>\n",
       "    </tr>\n",
       "    <tr>\n",
       "      <th>4</th>\n",
       "      <td>Gold Fire</td>\n",
       "      <td>Y</td>\n",
       "      <td>2013-05-01T07:00:00Z</td>\n",
       "      <td>2013-04-30T12:59:00Z</td>\n",
       "      <td>CAL FIRE Madera-Mariposa-Merced Unit</td>\n",
       "      <td>NaN</td>\n",
       "      <td>Madera</td>\n",
       "      <td>Between Road 210 and Road 200 near Fine Gold C...</td>\n",
       "      <td>274.0</td>\n",
       "      <td>100.0</td>\n",
       "      <td>...</td>\n",
       "      <td>37.116295</td>\n",
       "      <td>NaN</td>\n",
       "      <td>357ffc13-bef9-48eb-810f-c5de851972eb</td>\n",
       "      <td>https://www.fire.ca.gov/incidents/2013/4/30/go...</td>\n",
       "      <td>2013-05-01T07:00:00Z</td>\n",
       "      <td>2013-05-01</td>\n",
       "      <td>2013-04-30</td>\n",
       "      <td>N</td>\n",
       "      <td>True</td>\n",
       "      <td>False</td>\n",
       "    </tr>\n",
       "    <tr>\n",
       "      <th>...</th>\n",
       "      <td>...</td>\n",
       "      <td>...</td>\n",
       "      <td>...</td>\n",
       "      <td>...</td>\n",
       "      <td>...</td>\n",
       "      <td>...</td>\n",
       "      <td>...</td>\n",
       "      <td>...</td>\n",
       "      <td>...</td>\n",
       "      <td>...</td>\n",
       "      <td>...</td>\n",
       "      <td>...</td>\n",
       "      <td>...</td>\n",
       "      <td>...</td>\n",
       "      <td>...</td>\n",
       "      <td>...</td>\n",
       "      <td>...</td>\n",
       "      <td>...</td>\n",
       "      <td>...</td>\n",
       "      <td>...</td>\n",
       "      <td>...</td>\n",
       "    </tr>\n",
       "    <tr>\n",
       "      <th>3335</th>\n",
       "      <td>Lost Fire</td>\n",
       "      <td>Y</td>\n",
       "      <td>2025-09-28T09:51:03Z</td>\n",
       "      <td>2025-09-25T08:00:00Z</td>\n",
       "      <td>Ventura County Fire Department</td>\n",
       "      <td>NaN</td>\n",
       "      <td>Ventura</td>\n",
       "      <td>Near Lost Canyon Drive, Simi Valley</td>\n",
       "      <td>13.0</td>\n",
       "      <td>100.0</td>\n",
       "      <td>...</td>\n",
       "      <td>34.301578</td>\n",
       "      <td>Wildfire</td>\n",
       "      <td>75c850b6-27a5-493e-aaef-a42e02b2eab4</td>\n",
       "      <td>https://www.fire.ca.gov/incidents/2025/9/25/lo...</td>\n",
       "      <td>2025-09-27T14:00:00Z</td>\n",
       "      <td>2025-09-27</td>\n",
       "      <td>2025-09-25</td>\n",
       "      <td>N</td>\n",
       "      <td>False</td>\n",
       "      <td>False</td>\n",
       "    </tr>\n",
       "    <tr>\n",
       "      <th>3336</th>\n",
       "      <td>Martell Fire</td>\n",
       "      <td>Y</td>\n",
       "      <td>2025-09-28T09:49:59Z</td>\n",
       "      <td>2025-09-26T14:45:08Z</td>\n",
       "      <td>CAL FIRE Tuolumne-Calaveras Unit</td>\n",
       "      <td>NaN</td>\n",
       "      <td>Stanislaus</td>\n",
       "      <td>South of Telegraph Road and Northeast of Sonor...</td>\n",
       "      <td>37.0</td>\n",
       "      <td>100.0</td>\n",
       "      <td>...</td>\n",
       "      <td>37.906127</td>\n",
       "      <td>Wildfire</td>\n",
       "      <td>2d15d2af-d4a5-4f41-a17c-b17e3030ea93</td>\n",
       "      <td>https://www.fire.ca.gov/incidents/2025/9/26/ma...</td>\n",
       "      <td>2025-09-26T23:30:00Z</td>\n",
       "      <td>2025-09-26</td>\n",
       "      <td>2025-09-26</td>\n",
       "      <td>N</td>\n",
       "      <td>True</td>\n",
       "      <td>False</td>\n",
       "    </tr>\n",
       "    <tr>\n",
       "      <th>3337</th>\n",
       "      <td>Cobb Fire</td>\n",
       "      <td>Y</td>\n",
       "      <td>2025-09-29T07:12:14Z</td>\n",
       "      <td>2025-09-26T15:56:10Z</td>\n",
       "      <td>Six Rivers National Forest</td>\n",
       "      <td>NaN</td>\n",
       "      <td>Humboldt</td>\n",
       "      <td>Cobb Road and Rattlesnake Bridge Road, Dinsmore</td>\n",
       "      <td>12.0</td>\n",
       "      <td>100.0</td>\n",
       "      <td>...</td>\n",
       "      <td>40.463864</td>\n",
       "      <td>Wildfire</td>\n",
       "      <td>793418f8-d217-44c3-8409-617b2a3107a2</td>\n",
       "      <td>https://www.fire.ca.gov/incidents/2025/9/26/co...</td>\n",
       "      <td>2025-09-28T17:00:00Z</td>\n",
       "      <td>2025-09-28</td>\n",
       "      <td>2025-09-26</td>\n",
       "      <td>N</td>\n",
       "      <td>True</td>\n",
       "      <td>False</td>\n",
       "    </tr>\n",
       "    <tr>\n",
       "      <th>3338</th>\n",
       "      <td>Vleck Fire</td>\n",
       "      <td>N</td>\n",
       "      <td>2025-09-30T13:00:14-07:00</td>\n",
       "      <td>2025-09-29T12:02:36Z</td>\n",
       "      <td>CAL FIRE Amador-El Dorado Unit</td>\n",
       "      <td>NaN</td>\n",
       "      <td>Sacramento</td>\n",
       "      <td>Van Vleck Road and Jackson Highway</td>\n",
       "      <td>30.0</td>\n",
       "      <td>95.0</td>\n",
       "      <td>...</td>\n",
       "      <td>38.482401</td>\n",
       "      <td>Wildfire</td>\n",
       "      <td>cd5d2222-9721-4800-a0b7-604d56b86a93</td>\n",
       "      <td>https://www.fire.ca.gov/incidents/2025/9/29/vl...</td>\n",
       "      <td>NaN</td>\n",
       "      <td>NaN</td>\n",
       "      <td>2025-09-29</td>\n",
       "      <td>Y</td>\n",
       "      <td>True</td>\n",
       "      <td>False</td>\n",
       "    </tr>\n",
       "    <tr>\n",
       "      <th>3339</th>\n",
       "      <td>Paloma Fire</td>\n",
       "      <td>Y</td>\n",
       "      <td>2025-09-30T21:41:00Z</td>\n",
       "      <td>2025-09-30T01:08:26Z</td>\n",
       "      <td>CAL FIRE Madera-Mariposa-Merced Unit</td>\n",
       "      <td>NaN</td>\n",
       "      <td>Mariposa</td>\n",
       "      <td>Paloma Road and Hornitos Road</td>\n",
       "      <td>86.0</td>\n",
       "      <td>100.0</td>\n",
       "      <td>...</td>\n",
       "      <td>37.482008</td>\n",
       "      <td>Wildfire</td>\n",
       "      <td>5fa1beec-2657-45ff-8f6c-3c16313ad424</td>\n",
       "      <td>https://www.fire.ca.gov/incidents/2025/9/30/pa...</td>\n",
       "      <td>2025-09-30T18:44:00Z</td>\n",
       "      <td>2025-09-30</td>\n",
       "      <td>2025-09-30</td>\n",
       "      <td>N</td>\n",
       "      <td>True</td>\n",
       "      <td>False</td>\n",
       "    </tr>\n",
       "  </tbody>\n",
       "</table>\n",
       "<p>3340 rows × 23 columns</p>\n",
       "</div>"
      ],
      "text/plain": [
       "      incident_name incident_is_final  incident_date_last_update  \\\n",
       "0       Bridge Fire                 Y       2018-01-09T13:46:00Z   \n",
       "1         Pala Fire                 Y       2020-09-16T14:07:35Z   \n",
       "2        River Fire                 Y       2022-10-24T11:39:23Z   \n",
       "3     Fawnskin Fire                 Y       2013-04-22T09:00:00Z   \n",
       "4         Gold Fire                 Y       2013-05-01T07:00:00Z   \n",
       "...             ...               ...                        ...   \n",
       "3335      Lost Fire                 Y       2025-09-28T09:51:03Z   \n",
       "3336   Martell Fire                 Y       2025-09-28T09:49:59Z   \n",
       "3337      Cobb Fire                 Y       2025-09-29T07:12:14Z   \n",
       "3338     Vleck Fire                 N  2025-09-30T13:00:14-07:00   \n",
       "3339    Paloma Fire                 Y       2025-09-30T21:41:00Z   \n",
       "\n",
       "     incident_date_created          incident_administrative_unit  \\\n",
       "0     2017-10-31T11:22:00Z       Shasta-Trinity National Forest    \n",
       "1     2009-05-24T14:56:00Z               CAL FIRE San Diego Unit   \n",
       "2     2013-02-24T08:16:00Z          CAL FIRE San Bernardino Unit   \n",
       "3     2013-04-20T17:30:00Z        San Bernardino National Forest   \n",
       "4     2013-04-30T12:59:00Z  CAL FIRE Madera-Mariposa-Merced Unit   \n",
       "...                    ...                                   ...   \n",
       "3335  2025-09-25T08:00:00Z        Ventura County Fire Department   \n",
       "3336  2025-09-26T14:45:08Z      CAL FIRE Tuolumne-Calaveras Unit   \n",
       "3337  2025-09-26T15:56:10Z            Six Rivers National Forest   \n",
       "3338  2025-09-29T12:02:36Z        CAL FIRE Amador-El Dorado Unit   \n",
       "3339  2025-09-30T01:08:26Z  CAL FIRE Madera-Mariposa-Merced Unit   \n",
       "\n",
       "      incident_administrative_unit_url incident_county  \\\n",
       "0                                  NaN          Shasta   \n",
       "1                                  NaN       San Diego   \n",
       "2                                  NaN            Inyo   \n",
       "3                                  NaN  San Bernardino   \n",
       "4                                  NaN          Madera   \n",
       "...                                ...             ...   \n",
       "3335                               NaN         Ventura   \n",
       "3336                               NaN      Stanislaus   \n",
       "3337                               NaN        Humboldt   \n",
       "3338                               NaN      Sacramento   \n",
       "3339                               NaN        Mariposa   \n",
       "\n",
       "                                      incident_location  \\\n",
       "0     I-5 and Turntable Bay, 7 miles NE of Shasta Lake    \n",
       "1           Hwy 76 and Pala Temecula, northwest of Pala   \n",
       "2     south of Narrow Gauge Rd & north of Hwy 136, e...   \n",
       "3     west of Delamar Mountain, north of the communi...   \n",
       "4     Between Road 210 and Road 200 near Fine Gold C...   \n",
       "...                                                 ...   \n",
       "3335                Near Lost Canyon Drive, Simi Valley   \n",
       "3336  South of Telegraph Road and Northeast of Sonor...   \n",
       "3337    Cobb Road and Rattlesnake Bridge Road, Dinsmore   \n",
       "3338                 Van Vleck Road and Jackson Highway   \n",
       "3339                      Paloma Road and Hornitos Road   \n",
       "\n",
       "      incident_acres_burned  incident_containment  ... incident_latitude  \\\n",
       "0                      37.0                 100.0  ...         40.774000   \n",
       "1                     122.0                 100.0  ...          1.000000   \n",
       "2                     407.0                 100.0  ...         36.602575   \n",
       "3                      30.0                 100.0  ...         34.288877   \n",
       "4                     274.0                 100.0  ...         37.116295   \n",
       "...                     ...                   ...  ...               ...   \n",
       "3335                   13.0                 100.0  ...         34.301578   \n",
       "3336                   37.0                 100.0  ...         37.906127   \n",
       "3337                   12.0                 100.0  ...         40.463864   \n",
       "3338                   30.0                  95.0  ...         38.482401   \n",
       "3339                   86.0                 100.0  ...         37.482008   \n",
       "\n",
       "     incident_type                           incident_id  \\\n",
       "0              NaN  2ca11d45-8139-4c16-8af0-880d99b21e82   \n",
       "1         Wildfire  8f61f461-552d-4538-b186-35ab030da416   \n",
       "2              NaN  094719ba-a47b-4abb-9ec5-a506b2b9fd23   \n",
       "3              NaN  58f89ff8-bd3e-4355-b1c0-8fa05c747d3f   \n",
       "4              NaN  357ffc13-bef9-48eb-810f-c5de851972eb   \n",
       "...            ...                                   ...   \n",
       "3335      Wildfire  75c850b6-27a5-493e-aaef-a42e02b2eab4   \n",
       "3336      Wildfire  2d15d2af-d4a5-4f41-a17c-b17e3030ea93   \n",
       "3337      Wildfire  793418f8-d217-44c3-8409-617b2a3107a2   \n",
       "3338      Wildfire  cd5d2222-9721-4800-a0b7-604d56b86a93   \n",
       "3339      Wildfire  5fa1beec-2657-45ff-8f6c-3c16313ad424   \n",
       "\n",
       "                                           incident_url  \\\n",
       "0     https://www.fire.ca.gov/incidents/2017/10/31/b...   \n",
       "1     https://www.fire.ca.gov/incidents/2009/5/24/pa...   \n",
       "2     https://www.fire.ca.gov/incidents/2013/2/24/ri...   \n",
       "3     https://www.fire.ca.gov/incidents/2013/4/20/fa...   \n",
       "4     https://www.fire.ca.gov/incidents/2013/4/30/go...   \n",
       "...                                                 ...   \n",
       "3335  https://www.fire.ca.gov/incidents/2025/9/25/lo...   \n",
       "3336  https://www.fire.ca.gov/incidents/2025/9/26/ma...   \n",
       "3337  https://www.fire.ca.gov/incidents/2025/9/26/co...   \n",
       "3338  https://www.fire.ca.gov/incidents/2025/9/29/vl...   \n",
       "3339  https://www.fire.ca.gov/incidents/2025/9/30/pa...   \n",
       "\n",
       "     incident_date_extinguished incident_dateonly_extinguished  \\\n",
       "0          2018-01-09T13:46:00Z                     2018-01-09   \n",
       "1          2009-05-25T00:00:00Z                     2009-05-25   \n",
       "2          2013-02-28T20:00:00Z                     2013-02-28   \n",
       "3          2013-04-22T09:00:00Z                     2013-04-22   \n",
       "4          2013-05-01T07:00:00Z                     2013-05-01   \n",
       "...                         ...                            ...   \n",
       "3335       2025-09-27T14:00:00Z                     2025-09-27   \n",
       "3336       2025-09-26T23:30:00Z                     2025-09-26   \n",
       "3337       2025-09-28T17:00:00Z                     2025-09-28   \n",
       "3338                        NaN                            NaN   \n",
       "3339       2025-09-30T18:44:00Z                     2025-09-30   \n",
       "\n",
       "     incident_dateonly_created is_active calfire_incident notification_desired  \n",
       "0                   2017-10-31         N            False                False  \n",
       "1                   2009-05-24         N             True                False  \n",
       "2                   2013-02-24         N             True                False  \n",
       "3                   2013-04-20         N            False                False  \n",
       "4                   2013-04-30         N             True                False  \n",
       "...                        ...       ...              ...                  ...  \n",
       "3335                2025-09-25         N            False                False  \n",
       "3336                2025-09-26         N             True                False  \n",
       "3337                2025-09-26         N             True                False  \n",
       "3338                2025-09-29         Y             True                False  \n",
       "3339                2025-09-30         N             True                False  \n",
       "\n",
       "[3340 rows x 23 columns]"
      ]
     },
     "execution_count": 37,
     "metadata": {},
     "output_type": "execute_result"
    }
   ],
   "source": [
    "# Your code here\n",
    "DF_raw = pd.read_csv('mapdataall.csv')\n",
    "DF_raw"
   ]
  },
  {
   "cell_type": "markdown",
   "id": "941e4499-edd1-4210-b3ff-292dd2eb4df7",
   "metadata": {},
   "source": [
    "**Q1** How many variables and observations?\n",
    "**Q2** How many different incident types are there?\n",
    "**Q3** Make a histogram of the acres burned and color the bars by whether or not the incident was a calfire incident. You will probably need to make a mask to remove very small and very large fires. How many fires burned more than 100,000 acres? What is the largest fire in the data?\n",
    "\n",
    "**Extra Q** EXTRA - CHALLENGE - See if you can create a graph that answers the question: Are fires getting bigger or more frequent over time? You get complete creative control on how to answer this question!"
   ]
  },
  {
   "cell_type": "code",
   "execution_count": 55,
   "id": "df36876b-02c2-4d86-b55b-62819a368bf6",
   "metadata": {},
   "outputs": [
    {
     "data": {
      "application/vnd.plotly.v1+json": {
       "config": {
        "plotlyServerURL": "https://plot.ly"
       },
       "data": [
        {
         "bingroup": "x",
         "hovertemplate": "calfire_incident=False<br>incident_acres_burned=%{x}<br>count=%{y}<extra></extra>",
         "legendgroup": "False",
         "marker": {
          "color": "#636efa",
          "pattern": {
           "shape": ""
          }
         },
         "name": "False",
         "orientation": "v",
         "showlegend": true,
         "type": "histogram",
         "x": {
          "bdata": "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",
          "dtype": "f8"
         },
         "xaxis": "x",
         "yaxis": "y"
        },
        {
         "bingroup": "x",
         "hovertemplate": "calfire_incident=True<br>incident_acres_burned=%{x}<br>count=%{y}<extra></extra>",
         "legendgroup": "True",
         "marker": {
          "color": "#EF553B",
          "pattern": {
           "shape": ""
          }
         },
         "name": "True",
         "orientation": "v",
         "showlegend": true,
         "type": "histogram",
         "x": {
          "bdata": "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",
          "dtype": "f8"
         },
         "xaxis": "x",
         "yaxis": "y"
        }
       ],
       "layout": {
        "barmode": "relative",
        "legend": {
         "title": {
          "text": "calfire_incident"
         },
         "tracegroupgap": 0
        },
        "margin": {
         "t": 60
        },
        "template": {
         "data": {
          "bar": [
           {
            "error_x": {
             "color": "#2a3f5f"
            },
            "error_y": {
             "color": "#2a3f5f"
            },
            "marker": {
             "line": {
              "color": "#E5ECF6",
              "width": 0.5
             },
             "pattern": {
              "fillmode": "overlay",
              "size": 10,
              "solidity": 0.2
             }
            },
            "type": "bar"
           }
          ],
          "barpolar": [
           {
            "marker": {
             "line": {
              "color": "#E5ECF6",
              "width": 0.5
             },
             "pattern": {
              "fillmode": "overlay",
              "size": 10,
              "solidity": 0.2
             }
            },
            "type": "barpolar"
           }
          ],
          "carpet": [
           {
            "aaxis": {
             "endlinecolor": "#2a3f5f",
             "gridcolor": "white",
             "linecolor": "white",
             "minorgridcolor": "white",
             "startlinecolor": "#2a3f5f"
            },
            "baxis": {
             "endlinecolor": "#2a3f5f",
             "gridcolor": "white",
             "linecolor": "white",
             "minorgridcolor": "white",
             "startlinecolor": "#2a3f5f"
            },
            "type": "carpet"
           }
          ],
          "choropleth": [
           {
            "colorbar": {
             "outlinewidth": 0,
             "ticks": ""
            },
            "type": "choropleth"
           }
          ],
          "contour": [
           {
            "colorbar": {
             "outlinewidth": 0,
             "ticks": ""
            },
            "colorscale": [
             [
              0,
              "#0d0887"
             ],
             [
              0.1111111111111111,
              "#46039f"
             ],
             [
              0.2222222222222222,
              "#7201a8"
             ],
             [
              0.3333333333333333,
              "#9c179e"
             ],
             [
              0.4444444444444444,
              "#bd3786"
             ],
             [
              0.5555555555555556,
              "#d8576b"
             ],
             [
              0.6666666666666666,
              "#ed7953"
             ],
             [
              0.7777777777777778,
              "#fb9f3a"
             ],
             [
              0.8888888888888888,
              "#fdca26"
             ],
             [
              1,
              "#f0f921"
             ]
            ],
            "type": "contour"
           }
          ],
          "contourcarpet": [
           {
            "colorbar": {
             "outlinewidth": 0,
             "ticks": ""
            },
            "type": "contourcarpet"
           }
          ],
          "heatmap": [
           {
            "colorbar": {
             "outlinewidth": 0,
             "ticks": ""
            },
            "colorscale": [
             [
              0,
              "#0d0887"
             ],
             [
              0.1111111111111111,
              "#46039f"
             ],
             [
              0.2222222222222222,
              "#7201a8"
             ],
             [
              0.3333333333333333,
              "#9c179e"
             ],
             [
              0.4444444444444444,
              "#bd3786"
             ],
             [
              0.5555555555555556,
              "#d8576b"
             ],
             [
              0.6666666666666666,
              "#ed7953"
             ],
             [
              0.7777777777777778,
              "#fb9f3a"
             ],
             [
              0.8888888888888888,
              "#fdca26"
             ],
             [
              1,
              "#f0f921"
             ]
            ],
            "type": "heatmap"
           }
          ],
          "histogram": [
           {
            "marker": {
             "pattern": {
              "fillmode": "overlay",
              "size": 10,
              "solidity": 0.2
             }
            },
            "type": "histogram"
           }
          ],
          "histogram2d": [
           {
            "colorbar": {
             "outlinewidth": 0,
             "ticks": ""
            },
            "colorscale": [
             [
              0,
              "#0d0887"
             ],
             [
              0.1111111111111111,
              "#46039f"
             ],
             [
              0.2222222222222222,
              "#7201a8"
             ],
             [
              0.3333333333333333,
              "#9c179e"
             ],
             [
              0.4444444444444444,
              "#bd3786"
             ],
             [
              0.5555555555555556,
              "#d8576b"
             ],
             [
              0.6666666666666666,
              "#ed7953"
             ],
             [
              0.7777777777777778,
              "#fb9f3a"
             ],
             [
              0.8888888888888888,
              "#fdca26"
             ],
             [
              1,
              "#f0f921"
             ]
            ],
            "type": "histogram2d"
           }
          ],
          "histogram2dcontour": [
           {
            "colorbar": {
             "outlinewidth": 0,
             "ticks": ""
            },
            "colorscale": [
             [
              0,
              "#0d0887"
             ],
             [
              0.1111111111111111,
              "#46039f"
             ],
             [
              0.2222222222222222,
              "#7201a8"
             ],
             [
              0.3333333333333333,
              "#9c179e"
             ],
             [
              0.4444444444444444,
              "#bd3786"
             ],
             [
              0.5555555555555556,
              "#d8576b"
             ],
             [
              0.6666666666666666,
              "#ed7953"
             ],
             [
              0.7777777777777778,
              "#fb9f3a"
             ],
             [
              0.8888888888888888,
              "#fdca26"
             ],
             [
              1,
              "#f0f921"
             ]
            ],
            "type": "histogram2dcontour"
           }
          ],
          "mesh3d": [
           {
            "colorbar": {
             "outlinewidth": 0,
             "ticks": ""
            },
            "type": "mesh3d"
           }
          ],
          "parcoords": [
           {
            "line": {
             "colorbar": {
              "outlinewidth": 0,
              "ticks": ""
             }
            },
            "type": "parcoords"
           }
          ],
          "pie": [
           {
            "automargin": true,
            "type": "pie"
           }
          ],
          "scatter": [
           {
            "fillpattern": {
             "fillmode": "overlay",
             "size": 10,
             "solidity": 0.2
            },
            "type": "scatter"
           }
          ],
          "scatter3d": [
           {
            "line": {
             "colorbar": {
              "outlinewidth": 0,
              "ticks": ""
             }
            },
            "marker": {
             "colorbar": {
              "outlinewidth": 0,
              "ticks": ""
             }
            },
            "type": "scatter3d"
           }
          ],
          "scattercarpet": [
           {
            "marker": {
             "colorbar": {
              "outlinewidth": 0,
              "ticks": ""
             }
            },
            "type": "scattercarpet"
           }
          ],
          "scattergeo": [
           {
            "marker": {
             "colorbar": {
              "outlinewidth": 0,
              "ticks": ""
             }
            },
            "type": "scattergeo"
           }
          ],
          "scattergl": [
           {
            "marker": {
             "colorbar": {
              "outlinewidth": 0,
              "ticks": ""
             }
            },
            "type": "scattergl"
           }
          ],
          "scattermap": [
           {
            "marker": {
             "colorbar": {
              "outlinewidth": 0,
              "ticks": ""
             }
            },
            "type": "scattermap"
           }
          ],
          "scattermapbox": [
           {
            "marker": {
             "colorbar": {
              "outlinewidth": 0,
              "ticks": ""
             }
            },
            "type": "scattermapbox"
           }
          ],
          "scatterpolar": [
           {
            "marker": {
             "colorbar": {
              "outlinewidth": 0,
              "ticks": ""
             }
            },
            "type": "scatterpolar"
           }
          ],
          "scatterpolargl": [
           {
            "marker": {
             "colorbar": {
              "outlinewidth": 0,
              "ticks": ""
             }
            },
            "type": "scatterpolargl"
           }
          ],
          "scatterternary": [
           {
            "marker": {
             "colorbar": {
              "outlinewidth": 0,
              "ticks": ""
             }
            },
            "type": "scatterternary"
           }
          ],
          "surface": [
           {
            "colorbar": {
             "outlinewidth": 0,
             "ticks": ""
            },
            "colorscale": [
             [
              0,
              "#0d0887"
             ],
             [
              0.1111111111111111,
              "#46039f"
             ],
             [
              0.2222222222222222,
              "#7201a8"
             ],
             [
              0.3333333333333333,
              "#9c179e"
             ],
             [
              0.4444444444444444,
              "#bd3786"
             ],
             [
              0.5555555555555556,
              "#d8576b"
             ],
             [
              0.6666666666666666,
              "#ed7953"
             ],
             [
              0.7777777777777778,
              "#fb9f3a"
             ],
             [
              0.8888888888888888,
              "#fdca26"
             ],
             [
              1,
              "#f0f921"
             ]
            ],
            "type": "surface"
           }
          ],
          "table": [
           {
            "cells": {
             "fill": {
              "color": "#EBF0F8"
             },
             "line": {
              "color": "white"
             }
            },
            "header": {
             "fill": {
              "color": "#C8D4E3"
             },
             "line": {
              "color": "white"
             }
            },
            "type": "table"
           }
          ]
         },
         "layout": {
          "annotationdefaults": {
           "arrowcolor": "#2a3f5f",
           "arrowhead": 0,
           "arrowwidth": 1
          },
          "autotypenumbers": "strict",
          "coloraxis": {
           "colorbar": {
            "outlinewidth": 0,
            "ticks": ""
           }
          },
          "colorscale": {
           "diverging": [
            [
             0,
             "#8e0152"
            ],
            [
             0.1,
             "#c51b7d"
            ],
            [
             0.2,
             "#de77ae"
            ],
            [
             0.3,
             "#f1b6da"
            ],
            [
             0.4,
             "#fde0ef"
            ],
            [
             0.5,
             "#f7f7f7"
            ],
            [
             0.6,
             "#e6f5d0"
            ],
            [
             0.7,
             "#b8e186"
            ],
            [
             0.8,
             "#7fbc41"
            ],
            [
             0.9,
             "#4d9221"
            ],
            [
             1,
             "#276419"
            ]
           ],
           "sequential": [
            [
             0,
             "#0d0887"
            ],
            [
             0.1111111111111111,
             "#46039f"
            ],
            [
             0.2222222222222222,
             "#7201a8"
            ],
            [
             0.3333333333333333,
             "#9c179e"
            ],
            [
             0.4444444444444444,
             "#bd3786"
            ],
            [
             0.5555555555555556,
             "#d8576b"
            ],
            [
             0.6666666666666666,
             "#ed7953"
            ],
            [
             0.7777777777777778,
             "#fb9f3a"
            ],
            [
             0.8888888888888888,
             "#fdca26"
            ],
            [
             1,
             "#f0f921"
            ]
           ],
           "sequentialminus": [
            [
             0,
             "#0d0887"
            ],
            [
             0.1111111111111111,
             "#46039f"
            ],
            [
             0.2222222222222222,
             "#7201a8"
            ],
            [
             0.3333333333333333,
             "#9c179e"
            ],
            [
             0.4444444444444444,
             "#bd3786"
            ],
            [
             0.5555555555555556,
             "#d8576b"
            ],
            [
             0.6666666666666666,
             "#ed7953"
            ],
            [
             0.7777777777777778,
             "#fb9f3a"
            ],
            [
             0.8888888888888888,
             "#fdca26"
            ],
            [
             1,
             "#f0f921"
            ]
           ]
          },
          "colorway": [
           "#636efa",
           "#EF553B",
           "#00cc96",
           "#ab63fa",
           "#FFA15A",
           "#19d3f3",
           "#FF6692",
           "#B6E880",
           "#FF97FF",
           "#FECB52"
          ],
          "font": {
           "color": "#2a3f5f"
          },
          "geo": {
           "bgcolor": "white",
           "lakecolor": "white",
           "landcolor": "#E5ECF6",
           "showlakes": true,
           "showland": true,
           "subunitcolor": "white"
          },
          "hoverlabel": {
           "align": "left"
          },
          "hovermode": "closest",
          "mapbox": {
           "style": "light"
          },
          "paper_bgcolor": "white",
          "plot_bgcolor": "#E5ECF6",
          "polar": {
           "angularaxis": {
            "gridcolor": "white",
            "linecolor": "white",
            "ticks": ""
           },
           "bgcolor": "#E5ECF6",
           "radialaxis": {
            "gridcolor": "white",
            "linecolor": "white",
            "ticks": ""
           }
          },
          "scene": {
           "xaxis": {
            "backgroundcolor": "#E5ECF6",
            "gridcolor": "white",
            "gridwidth": 2,
            "linecolor": "white",
            "showbackground": true,
            "ticks": "",
            "zerolinecolor": "white"
           },
           "yaxis": {
            "backgroundcolor": "#E5ECF6",
            "gridcolor": "white",
            "gridwidth": 2,
            "linecolor": "white",
            "showbackground": true,
            "ticks": "",
            "zerolinecolor": "white"
           },
           "zaxis": {
            "backgroundcolor": "#E5ECF6",
            "gridcolor": "white",
            "gridwidth": 2,
            "linecolor": "white",
            "showbackground": true,
            "ticks": "",
            "zerolinecolor": "white"
           }
          },
          "shapedefaults": {
           "line": {
            "color": "#2a3f5f"
           }
          },
          "ternary": {
           "aaxis": {
            "gridcolor": "white",
            "linecolor": "white",
            "ticks": ""
           },
           "baxis": {
            "gridcolor": "white",
            "linecolor": "white",
            "ticks": ""
           },
           "bgcolor": "#E5ECF6",
           "caxis": {
            "gridcolor": "white",
            "linecolor": "white",
            "ticks": ""
           }
          },
          "title": {
           "x": 0.05
          },
          "xaxis": {
           "automargin": true,
           "gridcolor": "white",
           "linecolor": "white",
           "ticks": "",
           "title": {
            "standoff": 15
           },
           "zerolinecolor": "white",
           "zerolinewidth": 2
          },
          "yaxis": {
           "automargin": true,
           "gridcolor": "white",
           "linecolor": "white",
           "ticks": "",
           "title": {
            "standoff": 15
           },
           "zerolinecolor": "white",
           "zerolinewidth": 2
          }
         }
        },
        "title": {
         "text": "Acres Burned in Fires",
         "x": 0.5
        },
        "xaxis": {
         "anchor": "y",
         "domain": [
          0,
          1
         ],
         "title": {
          "text": "Acres Burned"
         }
        },
        "yaxis": {
         "anchor": "x",
         "domain": [
          0,
          1
         ],
         "title": {
          "text": "Number of Fires"
         }
        }
       }
      },
      "image/png": "[encoded data removed]"
     },
     "metadata": {},
     "output_type": "display_data"
    },
    {
     "data": {
      "text/html": [
       "<div>\n",
       "<style scoped>\n",
       "    .dataframe tbody tr th:only-of-type {\n",
       "        vertical-align: middle;\n",
       "    }\n",
       "\n",
       "    .dataframe tbody tr th {\n",
       "        vertical-align: top;\n",
       "    }\n",
       "\n",
       "    .dataframe thead th {\n",
       "        text-align: right;\n",
       "    }\n",
       "</style>\n",
       "<table border=\"1\" class=\"dataframe\">\n",
       "  <thead>\n",
       "    <tr style=\"text-align: right;\">\n",
       "      <th></th>\n",
       "      <th>incident_name</th>\n",
       "      <th>incident_is_final</th>\n",
       "      <th>incident_date_last_update</th>\n",
       "      <th>incident_date_created</th>\n",
       "      <th>incident_administrative_unit</th>\n",
       "      <th>incident_administrative_unit_url</th>\n",
       "      <th>incident_county</th>\n",
       "      <th>incident_location</th>\n",
       "      <th>incident_acres_burned</th>\n",
       "      <th>incident_containment</th>\n",
       "      <th>...</th>\n",
       "      <th>incident_latitude</th>\n",
       "      <th>incident_type</th>\n",
       "      <th>incident_id</th>\n",
       "      <th>incident_url</th>\n",
       "      <th>incident_date_extinguished</th>\n",
       "      <th>incident_dateonly_extinguished</th>\n",
       "      <th>incident_dateonly_created</th>\n",
       "      <th>is_active</th>\n",
       "      <th>calfire_incident</th>\n",
       "      <th>notification_desired</th>\n",
       "    </tr>\n",
       "  </thead>\n",
       "  <tbody>\n",
       "    <tr>\n",
       "      <th>122</th>\n",
       "      <td>Rim Fire</td>\n",
       "      <td>Y</td>\n",
       "      <td>2013-09-06T18:30:00Z</td>\n",
       "      <td>2013-08-17T15:25:00Z</td>\n",
       "      <td>Stanislaus National Forest/Yosemite National Park</td>\n",
       "      <td>NaN</td>\n",
       "      <td>Tuolumne</td>\n",
       "      <td>3 miles east of Groveland along Hwy 120</td>\n",
       "      <td>257314.0</td>\n",
       "      <td>100.0</td>\n",
       "      <td>...</td>\n",
       "      <td>37.857000</td>\n",
       "      <td>NaN</td>\n",
       "      <td>5fb18d4d-213f-4d83-a179-daaf11939e78</td>\n",
       "      <td>https://www.fire.ca.gov/incidents/2013/8/17/ri...</td>\n",
       "      <td>2013-09-06T18:30:00Z</td>\n",
       "      <td>2013-09-06</td>\n",
       "      <td>2013-08-17</td>\n",
       "      <td>N</td>\n",
       "      <td>True</td>\n",
       "      <td>False</td>\n",
       "    </tr>\n",
       "    <tr>\n",
       "      <th>311</th>\n",
       "      <td>Rough Fire</td>\n",
       "      <td>Y</td>\n",
       "      <td>2015-11-09T12:00:00Z</td>\n",
       "      <td>2015-07-31T19:00:00Z</td>\n",
       "      <td>Sierra National Forest</td>\n",
       "      <td>NaN</td>\n",
       "      <td>Fresno</td>\n",
       "      <td>5 miles North of Hume Lake and 2.5 miles to th...</td>\n",
       "      <td>151623.0</td>\n",
       "      <td>100.0</td>\n",
       "      <td>...</td>\n",
       "      <td>36.874000</td>\n",
       "      <td>NaN</td>\n",
       "      <td>8c788c0a-d1fc-46d7-a17c-23f786831f7d</td>\n",
       "      <td>https://www.fire.ca.gov/incidents/2015/7/31/ro...</td>\n",
       "      <td>2015-11-09T12:00:00Z</td>\n",
       "      <td>2015-11-09</td>\n",
       "      <td>2015-07-31</td>\n",
       "      <td>N</td>\n",
       "      <td>False</td>\n",
       "      <td>False</td>\n",
       "    </tr>\n",
       "    <tr>\n",
       "      <th>398</th>\n",
       "      <td>Soberanes Fire</td>\n",
       "      <td>Y</td>\n",
       "      <td>2022-10-26T08:16:29Z</td>\n",
       "      <td>2016-07-22T08:48:00Z</td>\n",
       "      <td>US Forest Service - Los Padres National Forest</td>\n",
       "      <td>NaN</td>\n",
       "      <td>Monterey</td>\n",
       "      <td>Soberanes Creek, Garrapata State Park, Palo Co...</td>\n",
       "      <td>132127.0</td>\n",
       "      <td>100.0</td>\n",
       "      <td>...</td>\n",
       "      <td>36.459940</td>\n",
       "      <td>NaN</td>\n",
       "      <td>977ac7ce-4204-4cd3-9f89-727142165261</td>\n",
       "      <td>https://www.fire.ca.gov/incidents/2016/7/22/so...</td>\n",
       "      <td>2016-10-13T11:30:00Z</td>\n",
       "      <td>2016-10-13</td>\n",
       "      <td>2016-07-22</td>\n",
       "      <td>N</td>\n",
       "      <td>True</td>\n",
       "      <td>False</td>\n",
       "    </tr>\n",
       "    <tr>\n",
       "      <th>744</th>\n",
       "      <td>Chetco Fire</td>\n",
       "      <td>Y</td>\n",
       "      <td>2018-01-09T11:52:00Z</td>\n",
       "      <td>2017-07-12T13:45:00Z</td>\n",
       "      <td>Rogue River-Siskiyou National Forest</td>\n",
       "      <td>NaN</td>\n",
       "      <td>NaN</td>\n",
       "      <td>Chetco River corridor, in the Kalmiopsis Wilde...</td>\n",
       "      <td>191125.0</td>\n",
       "      <td>100.0</td>\n",
       "      <td>...</td>\n",
       "      <td>42.298960</td>\n",
       "      <td>NaN</td>\n",
       "      <td>5555d1d7-0bb4-4c66-81b6-e1113987f217</td>\n",
       "      <td>https://www.fire.ca.gov/incidents/2017/7/12/ch...</td>\n",
       "      <td>2018-01-09T11:52:00Z</td>\n",
       "      <td>2018-01-09</td>\n",
       "      <td>2017-07-12</td>\n",
       "      <td>N</td>\n",
       "      <td>False</td>\n",
       "      <td>False</td>\n",
       "    </tr>\n",
       "    <tr>\n",
       "      <th>884</th>\n",
       "      <td>Thomas Fire</td>\n",
       "      <td>Y</td>\n",
       "      <td>2024-09-23T16:01:41Z</td>\n",
       "      <td>2017-12-04T18:28:00Z</td>\n",
       "      <td>US Forest Service - Los Padres National Forest</td>\n",
       "      <td>NaN</td>\n",
       "      <td>Santa Barbara, Ventura</td>\n",
       "      <td>Hwy 150 and Hwy 126, north of Santa Paula</td>\n",
       "      <td>281893.0</td>\n",
       "      <td>100.0</td>\n",
       "      <td>...</td>\n",
       "      <td>34.415210</td>\n",
       "      <td>Wildfire</td>\n",
       "      <td>d28bc34e-73a8-454d-9e55-dea7bdd40bee</td>\n",
       "      <td>https://www.fire.ca.gov/incidents/2017/12/4/th...</td>\n",
       "      <td>2018-01-12T11:24:00Z</td>\n",
       "      <td>2018-01-12</td>\n",
       "      <td>2017-12-04</td>\n",
       "      <td>N</td>\n",
       "      <td>True</td>\n",
       "      <td>False</td>\n",
       "    </tr>\n",
       "    <tr>\n",
       "      <th>1082</th>\n",
       "      <td>Carr Fire</td>\n",
       "      <td>Y</td>\n",
       "      <td>2022-10-24T10:31:23Z</td>\n",
       "      <td>2018-07-23T13:15:00Z</td>\n",
       "      <td>Unified Command: CAL FIRE Shasta-Trinity Unit,...</td>\n",
       "      <td>NaN</td>\n",
       "      <td>Shasta, Trinity</td>\n",
       "      <td>Hwy 299 and Carr Powerhouse Rd, Whiskeytown</td>\n",
       "      <td>229651.0</td>\n",
       "      <td>100.0</td>\n",
       "      <td>...</td>\n",
       "      <td>40.654280</td>\n",
       "      <td>Wildfire</td>\n",
       "      <td>240b1f55-0f4e-448d-a4ce-3ecfec7a6c9d</td>\n",
       "      <td>https://www.fire.ca.gov/incidents/2018/7/23/ca...</td>\n",
       "      <td>2018-08-30T09:37:00Z</td>\n",
       "      <td>2018-08-30</td>\n",
       "      <td>2018-07-23</td>\n",
       "      <td>N</td>\n",
       "      <td>True</td>\n",
       "      <td>False</td>\n",
       "    </tr>\n",
       "    <tr>\n",
       "      <th>1099</th>\n",
       "      <td>Ranch Fire (Mendocino Complex)</td>\n",
       "      <td>Y</td>\n",
       "      <td>2022-10-24T10:23:14Z</td>\n",
       "      <td>2018-07-27T12:05:00Z</td>\n",
       "      <td>USFS Mendocino National Forest</td>\n",
       "      <td>NaN</td>\n",
       "      <td>Colusa, Mendocino, Glenn, Lake</td>\n",
       "      <td>off Highway 20 near Potter Valley, northeast o...</td>\n",
       "      <td>410203.0</td>\n",
       "      <td>100.0</td>\n",
       "      <td>...</td>\n",
       "      <td>39.243283</td>\n",
       "      <td>Wildfire</td>\n",
       "      <td>90b0daf7-5d84-42d9-bb35-bb78d4faf950</td>\n",
       "      <td>https://www.fire.ca.gov/incidents/2018/7/27/ra...</td>\n",
       "      <td>2019-01-04T09:33:00Z</td>\n",
       "      <td>2019-01-04</td>\n",
       "      <td>2018-07-27</td>\n",
       "      <td>N</td>\n",
       "      <td>True</td>\n",
       "      <td>False</td>\n",
       "    </tr>\n",
       "    <tr>\n",
       "      <th>1192</th>\n",
       "      <td>Camp Fire</td>\n",
       "      <td>Y</td>\n",
       "      <td>2024-09-26T13:34:16Z</td>\n",
       "      <td>2018-11-08T06:33:00Z</td>\n",
       "      <td>Unified Command: CAL FIRE, Butte County Sherif...</td>\n",
       "      <td>NaN</td>\n",
       "      <td>Butte</td>\n",
       "      <td>Pulga Road at Camp Creek Road near Jarbo Gap</td>\n",
       "      <td>153336.0</td>\n",
       "      <td>100.0</td>\n",
       "      <td>...</td>\n",
       "      <td>39.813400</td>\n",
       "      <td>Wildfire</td>\n",
       "      <td>75dafe80-f18a-4a4a-9a37-4b564c5f6014</td>\n",
       "      <td>https://www.fire.ca.gov/incidents/2018/11/8/ca...</td>\n",
       "      <td>2018-11-25T08:00:00Z</td>\n",
       "      <td>2018-11-25</td>\n",
       "      <td>2018-11-08</td>\n",
       "      <td>N</td>\n",
       "      <td>True</td>\n",
       "      <td>False</td>\n",
       "    </tr>\n",
       "    <tr>\n",
       "      <th>1653</th>\n",
       "      <td>August Complex (includes Doe Fire)</td>\n",
       "      <td>Y</td>\n",
       "      <td>2020-11-18T10:22:42Z</td>\n",
       "      <td>2020-08-16T20:37:26Z</td>\n",
       "      <td>Mendocino National Forest</td>\n",
       "      <td>NaN</td>\n",
       "      <td>Mendocino, Humboldt, Trinity, Tehama, Glenn, L...</td>\n",
       "      <td>Mendocino, Humboldt, Trinity, Tehama, Glenn, ...</td>\n",
       "      <td>1032648.0</td>\n",
       "      <td>100.0</td>\n",
       "      <td>...</td>\n",
       "      <td>39.776000</td>\n",
       "      <td>Wildfire</td>\n",
       "      <td>b8f267be-9911-44ee-8a73-7a0537fbd6fa</td>\n",
       "      <td>https://www.fire.ca.gov/incidents/2020/8/16/au...</td>\n",
       "      <td>2020-11-11T10:21:44Z</td>\n",
       "      <td>2020-11-11</td>\n",
       "      <td>2020-08-16</td>\n",
       "      <td>N</td>\n",
       "      <td>False</td>\n",
       "      <td>False</td>\n",
       "    </tr>\n",
       "    <tr>\n",
       "      <th>1660</th>\n",
       "      <td>SCU Lightning Complex</td>\n",
       "      <td>Y</td>\n",
       "      <td>2022-10-21T15:13:34Z</td>\n",
       "      <td>2020-08-16T09:25:25Z</td>\n",
       "      <td>CAL FIRE Santa Clara Unit</td>\n",
       "      <td>NaN</td>\n",
       "      <td>Santa Clara, San Joaquin, Contra Costa, Alamed...</td>\n",
       "      <td>Multiple locations throughout Santa Clara Coun...</td>\n",
       "      <td>396624.0</td>\n",
       "      <td>100.0</td>\n",
       "      <td>...</td>\n",
       "      <td>37.439437</td>\n",
       "      <td>Wildfire</td>\n",
       "      <td>22c6ea3c-304c-4b3b-bfba-7c9dfc63d9da</td>\n",
       "      <td>https://www.fire.ca.gov/incidents/2020/8/16/sc...</td>\n",
       "      <td>2020-10-01T10:29:00Z</td>\n",
       "      <td>2020-10-01</td>\n",
       "      <td>2020-08-16</td>\n",
       "      <td>N</td>\n",
       "      <td>True</td>\n",
       "      <td>False</td>\n",
       "    </tr>\n",
       "    <tr>\n",
       "      <th>1666</th>\n",
       "      <td>LNU Lightning Complex</td>\n",
       "      <td>Y</td>\n",
       "      <td>2023-03-20T13:16:19Z</td>\n",
       "      <td>2020-08-17T08:00:00Z</td>\n",
       "      <td>CAL FIRE Sonoma-Lake-Napa Unit</td>\n",
       "      <td>NaN</td>\n",
       "      <td>Napa, Solano, Lake, Sonoma, Yolo</td>\n",
       "      <td>See details below</td>\n",
       "      <td>363220.0</td>\n",
       "      <td>100.0</td>\n",
       "      <td>...</td>\n",
       "      <td>38.481930</td>\n",
       "      <td>Wildfire</td>\n",
       "      <td>9645c55f-2b11-40ab-9ae7-df424d685a2d</td>\n",
       "      <td>https://www.fire.ca.gov/incidents/2020/8/17/ln...</td>\n",
       "      <td>2020-10-02T10:38:00Z</td>\n",
       "      <td>2020-10-02</td>\n",
       "      <td>2020-08-17</td>\n",
       "      <td>N</td>\n",
       "      <td>True</td>\n",
       "      <td>False</td>\n",
       "    </tr>\n",
       "    <tr>\n",
       "      <th>1683</th>\n",
       "      <td>Creek Fire</td>\n",
       "      <td>Y</td>\n",
       "      <td>2022-10-21T15:12:25Z</td>\n",
       "      <td>2020-09-04T18:21:00Z</td>\n",
       "      <td>Sierra National Forest</td>\n",
       "      <td>NaN</td>\n",
       "      <td>Fresno, Madera</td>\n",
       "      <td>Both sides of the San Joaquin River near Mammo...</td>\n",
       "      <td>379895.0</td>\n",
       "      <td>100.0</td>\n",
       "      <td>...</td>\n",
       "      <td>37.191470</td>\n",
       "      <td>Wildfire</td>\n",
       "      <td>7e359448-0344-4407-a289-e4fb7823ac3c</td>\n",
       "      <td>https://www.fire.ca.gov/incidents/2020/9/4/cre...</td>\n",
       "      <td>NaN</td>\n",
       "      <td>NaN</td>\n",
       "      <td>2020-09-04</td>\n",
       "      <td>N</td>\n",
       "      <td>False</td>\n",
       "      <td>False</td>\n",
       "    </tr>\n",
       "    <tr>\n",
       "      <th>1828</th>\n",
       "      <td>Beckwourth Complex</td>\n",
       "      <td>Y</td>\n",
       "      <td>2021-09-26T08:38:14Z</td>\n",
       "      <td>2021-07-04T09:26:06Z</td>\n",
       "      <td>Plumas National Forest</td>\n",
       "      <td>NaN</td>\n",
       "      <td>Plumas</td>\n",
       "      <td>northeast of Beckwourth</td>\n",
       "      <td>105670.0</td>\n",
       "      <td>100.0</td>\n",
       "      <td>...</td>\n",
       "      <td>39.832030</td>\n",
       "      <td>Wildfire</td>\n",
       "      <td>882f419d-ff9e-4533-b8da-a428ffcfec6e</td>\n",
       "      <td>https://www.fire.ca.gov/incidents/2021/7/4/bec...</td>\n",
       "      <td>2021-09-22T08:37:37Z</td>\n",
       "      <td>2021-09-22</td>\n",
       "      <td>2021-07-04</td>\n",
       "      <td>N</td>\n",
       "      <td>False</td>\n",
       "      <td>False</td>\n",
       "    </tr>\n",
       "    <tr>\n",
       "      <th>1841</th>\n",
       "      <td>Dixie Fire</td>\n",
       "      <td>Y</td>\n",
       "      <td>2022-10-14T08:14:49Z</td>\n",
       "      <td>2021-07-13T17:15:00Z</td>\n",
       "      <td>Lassen National Forest and National Park Service</td>\n",
       "      <td>NaN</td>\n",
       "      <td>Butte, Plumas, Shasta, Lassen, Tehama</td>\n",
       "      <td>Above the Cresta Dam, Feather River Canyon</td>\n",
       "      <td>963309.0</td>\n",
       "      <td>100.0</td>\n",
       "      <td>...</td>\n",
       "      <td>39.871306</td>\n",
       "      <td>Wildfire</td>\n",
       "      <td>00016d5d-1647-49e4-a02a-abf46b8480ae</td>\n",
       "      <td>https://www.fire.ca.gov/incidents/2021/7/13/di...</td>\n",
       "      <td>2021-10-25T07:45:46Z</td>\n",
       "      <td>2021-10-25</td>\n",
       "      <td>2021-07-13</td>\n",
       "      <td>N</td>\n",
       "      <td>False</td>\n",
       "      <td>False</td>\n",
       "    </tr>\n",
       "    <tr>\n",
       "      <th>1856</th>\n",
       "      <td>McFarland Fire</td>\n",
       "      <td>Y</td>\n",
       "      <td>2021-09-20T08:26:23Z</td>\n",
       "      <td>2021-07-30T18:44:00Z</td>\n",
       "      <td>Shasta-Trinity National Forest</td>\n",
       "      <td>NaN</td>\n",
       "      <td>Shasta, Trinity, Tehama</td>\n",
       "      <td>McFarland Ridge and Baker Flat, west of Platina</td>\n",
       "      <td>122653.0</td>\n",
       "      <td>100.0</td>\n",
       "      <td>...</td>\n",
       "      <td>40.350000</td>\n",
       "      <td>Fire</td>\n",
       "      <td>d0174b70-8652-4242-bf7f-b00e98a48319</td>\n",
       "      <td>https://www.fire.ca.gov/incidents/2021/7/30/mc...</td>\n",
       "      <td>2021-09-16T18:00:00Z</td>\n",
       "      <td>2021-09-16</td>\n",
       "      <td>2021-07-30</td>\n",
       "      <td>N</td>\n",
       "      <td>False</td>\n",
       "      <td>False</td>\n",
       "    </tr>\n",
       "    <tr>\n",
       "      <th>1860</th>\n",
       "      <td>Antelope Fire</td>\n",
       "      <td>Y</td>\n",
       "      <td>2022-10-14T08:05:09Z</td>\n",
       "      <td>2021-08-01T11:28:25Z</td>\n",
       "      <td>Klamath National Forest</td>\n",
       "      <td>NaN</td>\n",
       "      <td>Siskiyou</td>\n",
       "      <td>Antelope Creek and Forest Road 41N28, south of...</td>\n",
       "      <td>145632.0</td>\n",
       "      <td>100.0</td>\n",
       "      <td>...</td>\n",
       "      <td>41.528990</td>\n",
       "      <td>Wildfire</td>\n",
       "      <td>dc3380c7-ff32-4062-a4e8-be99b655f2c6</td>\n",
       "      <td>https://www.fire.ca.gov/incidents/2021/8/1/ant...</td>\n",
       "      <td>2021-10-15T12:01:36Z</td>\n",
       "      <td>2021-10-15</td>\n",
       "      <td>2021-08-01</td>\n",
       "      <td>N</td>\n",
       "      <td>False</td>\n",
       "      <td>False</td>\n",
       "    </tr>\n",
       "    <tr>\n",
       "      <th>1862</th>\n",
       "      <td>Monument Fire</td>\n",
       "      <td>Y</td>\n",
       "      <td>2022-10-14T08:13:30Z</td>\n",
       "      <td>2021-07-30T12:28:00Z</td>\n",
       "      <td>Shasta Trinity National Forest</td>\n",
       "      <td>NaN</td>\n",
       "      <td>Trinity</td>\n",
       "      <td>Del Loma, CA near Monument Peak</td>\n",
       "      <td>223124.0</td>\n",
       "      <td>100.0</td>\n",
       "      <td>...</td>\n",
       "      <td>40.752000</td>\n",
       "      <td>Wildfire</td>\n",
       "      <td>1d1bb813-5955-438a-a2cd-0e2d46074f1a</td>\n",
       "      <td>https://www.fire.ca.gov/incidents/2021/7/30/mo...</td>\n",
       "      <td>2021-10-26T13:15:01Z</td>\n",
       "      <td>2021-10-26</td>\n",
       "      <td>2021-07-30</td>\n",
       "      <td>N</td>\n",
       "      <td>False</td>\n",
       "      <td>False</td>\n",
       "    </tr>\n",
       "    <tr>\n",
       "      <th>1863</th>\n",
       "      <td>River Complex</td>\n",
       "      <td>Y</td>\n",
       "      <td>2022-10-14T08:21:12Z</td>\n",
       "      <td>2021-07-30T18:17:40Z</td>\n",
       "      <td>Klamath National Forest</td>\n",
       "      <td>NaN</td>\n",
       "      <td>Siskiyou, Trinity</td>\n",
       "      <td>Scott Salmon Ranger District, west of Callahan</td>\n",
       "      <td>199359.0</td>\n",
       "      <td>100.0</td>\n",
       "      <td>...</td>\n",
       "      <td>41.389000</td>\n",
       "      <td>Wildfire</td>\n",
       "      <td>9284625d-a9bd-447b-b215-a40fe4a52697</td>\n",
       "      <td>https://www.fire.ca.gov/incidents/2021/7/30/ri...</td>\n",
       "      <td>2021-10-26T13:14:31Z</td>\n",
       "      <td>2021-10-26</td>\n",
       "      <td>2021-07-30</td>\n",
       "      <td>N</td>\n",
       "      <td>False</td>\n",
       "      <td>False</td>\n",
       "    </tr>\n",
       "    <tr>\n",
       "      <th>1873</th>\n",
       "      <td>Caldor Fire</td>\n",
       "      <td>Y</td>\n",
       "      <td>2023-02-16T11:40:23Z</td>\n",
       "      <td>2021-08-14T18:54:00Z</td>\n",
       "      <td>El Dorado National Forest</td>\n",
       "      <td>NaN</td>\n",
       "      <td>El Dorado, Alpine, Amador</td>\n",
       "      <td>East of Omo Ranch, South of the community of G...</td>\n",
       "      <td>221835.0</td>\n",
       "      <td>100.0</td>\n",
       "      <td>...</td>\n",
       "      <td>38.586000</td>\n",
       "      <td>Wildfire</td>\n",
       "      <td>a21c4d1f-87ed-4db1-85ea-eae41c90a0ac</td>\n",
       "      <td>https://www.fire.ca.gov/incidents/2021/8/14/ca...</td>\n",
       "      <td>2021-10-21T08:18:44Z</td>\n",
       "      <td>2021-10-21</td>\n",
       "      <td>2021-08-14</td>\n",
       "      <td>N</td>\n",
       "      <td>False</td>\n",
       "      <td>False</td>\n",
       "    </tr>\n",
       "    <tr>\n",
       "      <th>2552</th>\n",
       "      <td>Park Fire</td>\n",
       "      <td>Y</td>\n",
       "      <td>2025-07-29T10:23:45Z</td>\n",
       "      <td>2024-07-24T14:52:43Z</td>\n",
       "      <td>CAL FIRE Butte Unit, CAL FIRE Tehama-Glenn Uni...</td>\n",
       "      <td>NaN</td>\n",
       "      <td>Butte, Tehama</td>\n",
       "      <td>Off Upper Park Road in Bidwell Park, Chico</td>\n",
       "      <td>429603.0</td>\n",
       "      <td>100.0</td>\n",
       "      <td>...</td>\n",
       "      <td>39.778900</td>\n",
       "      <td>Wildfire</td>\n",
       "      <td>d9a0045f-b30c-490b-b181-5be460544947</td>\n",
       "      <td>https://www.fire.ca.gov/incidents/2024/7/24/pa...</td>\n",
       "      <td>NaN</td>\n",
       "      <td>NaN</td>\n",
       "      <td>2024-07-24</td>\n",
       "      <td>N</td>\n",
       "      <td>True</td>\n",
       "      <td>False</td>\n",
       "    </tr>\n",
       "    <tr>\n",
       "      <th>3165</th>\n",
       "      <td>Gifford Fire</td>\n",
       "      <td>Y</td>\n",
       "      <td>2025-09-28T22:02:04Z</td>\n",
       "      <td>2025-08-01T15:44:29Z</td>\n",
       "      <td>Los Padres National Forest</td>\n",
       "      <td>NaN</td>\n",
       "      <td>San Luis Obispo, Santa Barbara</td>\n",
       "      <td>Highway 166, Northeast of Santa Maria</td>\n",
       "      <td>131614.0</td>\n",
       "      <td>100.0</td>\n",
       "      <td>...</td>\n",
       "      <td>35.111258</td>\n",
       "      <td>Wildfire</td>\n",
       "      <td>fb7c1cc7-8104-4776-b89e-fd27cb9b7be9</td>\n",
       "      <td>https://www.fire.ca.gov/incidents/2025/8/1/gif...</td>\n",
       "      <td>NaN</td>\n",
       "      <td>NaN</td>\n",
       "      <td>2025-08-01</td>\n",
       "      <td>N</td>\n",
       "      <td>False</td>\n",
       "      <td>False</td>\n",
       "    </tr>\n",
       "  </tbody>\n",
       "</table>\n",
       "<p>21 rows × 23 columns</p>\n",
       "</div>"
      ],
      "text/plain": [
       "                           incident_name incident_is_final  \\\n",
       "122                             Rim Fire                 Y   \n",
       "311                          Rough Fire                  Y   \n",
       "398                       Soberanes Fire                 Y   \n",
       "744                          Chetco Fire                 Y   \n",
       "884                          Thomas Fire                 Y   \n",
       "1082                           Carr Fire                 Y   \n",
       "1099      Ranch Fire (Mendocino Complex)                 Y   \n",
       "1192                           Camp Fire                 Y   \n",
       "1653  August Complex (includes Doe Fire)                 Y   \n",
       "1660               SCU Lightning Complex                 Y   \n",
       "1666               LNU Lightning Complex                 Y   \n",
       "1683                          Creek Fire                 Y   \n",
       "1828                  Beckwourth Complex                 Y   \n",
       "1841                          Dixie Fire                 Y   \n",
       "1856                      McFarland Fire                 Y   \n",
       "1860                       Antelope Fire                 Y   \n",
       "1862                       Monument Fire                 Y   \n",
       "1863                       River Complex                 Y   \n",
       "1873                         Caldor Fire                 Y   \n",
       "2552                           Park Fire                 Y   \n",
       "3165                       Gifford Fire                  Y   \n",
       "\n",
       "     incident_date_last_update incident_date_created  \\\n",
       "122       2013-09-06T18:30:00Z  2013-08-17T15:25:00Z   \n",
       "311       2015-11-09T12:00:00Z  2015-07-31T19:00:00Z   \n",
       "398       2022-10-26T08:16:29Z  2016-07-22T08:48:00Z   \n",
       "744       2018-01-09T11:52:00Z  2017-07-12T13:45:00Z   \n",
       "884       2024-09-23T16:01:41Z  2017-12-04T18:28:00Z   \n",
       "1082      2022-10-24T10:31:23Z  2018-07-23T13:15:00Z   \n",
       "1099      2022-10-24T10:23:14Z  2018-07-27T12:05:00Z   \n",
       "1192      2024-09-26T13:34:16Z  2018-11-08T06:33:00Z   \n",
       "1653      2020-11-18T10:22:42Z  2020-08-16T20:37:26Z   \n",
       "1660      2022-10-21T15:13:34Z  2020-08-16T09:25:25Z   \n",
       "1666      2023-03-20T13:16:19Z  2020-08-17T08:00:00Z   \n",
       "1683      2022-10-21T15:12:25Z  2020-09-04T18:21:00Z   \n",
       "1828      2021-09-26T08:38:14Z  2021-07-04T09:26:06Z   \n",
       "1841      2022-10-14T08:14:49Z  2021-07-13T17:15:00Z   \n",
       "1856      2021-09-20T08:26:23Z  2021-07-30T18:44:00Z   \n",
       "1860      2022-10-14T08:05:09Z  2021-08-01T11:28:25Z   \n",
       "1862      2022-10-14T08:13:30Z  2021-07-30T12:28:00Z   \n",
       "1863      2022-10-14T08:21:12Z  2021-07-30T18:17:40Z   \n",
       "1873      2023-02-16T11:40:23Z  2021-08-14T18:54:00Z   \n",
       "2552      2025-07-29T10:23:45Z  2024-07-24T14:52:43Z   \n",
       "3165      2025-09-28T22:02:04Z  2025-08-01T15:44:29Z   \n",
       "\n",
       "                           incident_administrative_unit  \\\n",
       "122   Stanislaus National Forest/Yosemite National Park   \n",
       "311                             Sierra National Forest    \n",
       "398      US Forest Service - Los Padres National Forest   \n",
       "744                Rogue River-Siskiyou National Forest   \n",
       "884     US Forest Service - Los Padres National Forest    \n",
       "1082  Unified Command: CAL FIRE Shasta-Trinity Unit,...   \n",
       "1099                    USFS Mendocino National Forest    \n",
       "1192  Unified Command: CAL FIRE, Butte County Sherif...   \n",
       "1653                          Mendocino National Forest   \n",
       "1660                          CAL FIRE Santa Clara Unit   \n",
       "1666                    CAL FIRE Sonoma-Lake-Napa Unit    \n",
       "1683                            Sierra National Forest    \n",
       "1828                             Plumas National Forest   \n",
       "1841   Lassen National Forest and National Park Service   \n",
       "1856                     Shasta-Trinity National Forest   \n",
       "1860                            Klamath National Forest   \n",
       "1862                     Shasta Trinity National Forest   \n",
       "1863                            Klamath National Forest   \n",
       "1873                          El Dorado National Forest   \n",
       "2552  CAL FIRE Butte Unit, CAL FIRE Tehama-Glenn Uni...   \n",
       "3165                         Los Padres National Forest   \n",
       "\n",
       "      incident_administrative_unit_url  \\\n",
       "122                                NaN   \n",
       "311                                NaN   \n",
       "398                                NaN   \n",
       "744                                NaN   \n",
       "884                                NaN   \n",
       "1082                               NaN   \n",
       "1099                               NaN   \n",
       "1192                               NaN   \n",
       "1653                               NaN   \n",
       "1660                               NaN   \n",
       "1666                               NaN   \n",
       "1683                               NaN   \n",
       "1828                               NaN   \n",
       "1841                               NaN   \n",
       "1856                               NaN   \n",
       "1860                               NaN   \n",
       "1862                               NaN   \n",
       "1863                               NaN   \n",
       "1873                               NaN   \n",
       "2552                               NaN   \n",
       "3165                               NaN   \n",
       "\n",
       "                                        incident_county  \\\n",
       "122                                            Tuolumne   \n",
       "311                                              Fresno   \n",
       "398                                            Monterey   \n",
       "744                                                 NaN   \n",
       "884                              Santa Barbara, Ventura   \n",
       "1082                                    Shasta, Trinity   \n",
       "1099                     Colusa, Mendocino, Glenn, Lake   \n",
       "1192                                              Butte   \n",
       "1653  Mendocino, Humboldt, Trinity, Tehama, Glenn, L...   \n",
       "1660  Santa Clara, San Joaquin, Contra Costa, Alamed...   \n",
       "1666                   Napa, Solano, Lake, Sonoma, Yolo   \n",
       "1683                                     Fresno, Madera   \n",
       "1828                                             Plumas   \n",
       "1841              Butte, Plumas, Shasta, Lassen, Tehama   \n",
       "1856                            Shasta, Trinity, Tehama   \n",
       "1860                                           Siskiyou   \n",
       "1862                                            Trinity   \n",
       "1863                                  Siskiyou, Trinity   \n",
       "1873                          El Dorado, Alpine, Amador   \n",
       "2552                                      Butte, Tehama   \n",
       "3165                     San Luis Obispo, Santa Barbara   \n",
       "\n",
       "                                      incident_location  \\\n",
       "122             3 miles east of Groveland along Hwy 120   \n",
       "311   5 miles North of Hume Lake and 2.5 miles to th...   \n",
       "398   Soberanes Creek, Garrapata State Park, Palo Co...   \n",
       "744   Chetco River corridor, in the Kalmiopsis Wilde...   \n",
       "884          Hwy 150 and Hwy 126, north of Santa Paula    \n",
       "1082        Hwy 299 and Carr Powerhouse Rd, Whiskeytown   \n",
       "1099  off Highway 20 near Potter Valley, northeast o...   \n",
       "1192       Pulga Road at Camp Creek Road near Jarbo Gap   \n",
       "1653   Mendocino, Humboldt, Trinity, Tehama, Glenn, ...   \n",
       "1660  Multiple locations throughout Santa Clara Coun...   \n",
       "1666                                  See details below   \n",
       "1683  Both sides of the San Joaquin River near Mammo...   \n",
       "1828                            northeast of Beckwourth   \n",
       "1841         Above the Cresta Dam, Feather River Canyon   \n",
       "1856    McFarland Ridge and Baker Flat, west of Platina   \n",
       "1860  Antelope Creek and Forest Road 41N28, south of...   \n",
       "1862                    Del Loma, CA near Monument Peak   \n",
       "1863     Scott Salmon Ranger District, west of Callahan   \n",
       "1873  East of Omo Ranch, South of the community of G...   \n",
       "2552         Off Upper Park Road in Bidwell Park, Chico   \n",
       "3165              Highway 166, Northeast of Santa Maria   \n",
       "\n",
       "      incident_acres_burned  incident_containment  ... incident_latitude  \\\n",
       "122                257314.0                 100.0  ...         37.857000   \n",
       "311                151623.0                 100.0  ...         36.874000   \n",
       "398                132127.0                 100.0  ...         36.459940   \n",
       "744                191125.0                 100.0  ...         42.298960   \n",
       "884                281893.0                 100.0  ...         34.415210   \n",
       "1082               229651.0                 100.0  ...         40.654280   \n",
       "1099               410203.0                 100.0  ...         39.243283   \n",
       "1192               153336.0                 100.0  ...         39.813400   \n",
       "1653              1032648.0                 100.0  ...         39.776000   \n",
       "1660               396624.0                 100.0  ...         37.439437   \n",
       "1666               363220.0                 100.0  ...         38.481930   \n",
       "1683               379895.0                 100.0  ...         37.191470   \n",
       "1828               105670.0                 100.0  ...         39.832030   \n",
       "1841               963309.0                 100.0  ...         39.871306   \n",
       "1856               122653.0                 100.0  ...         40.350000   \n",
       "1860               145632.0                 100.0  ...         41.528990   \n",
       "1862               223124.0                 100.0  ...         40.752000   \n",
       "1863               199359.0                 100.0  ...         41.389000   \n",
       "1873               221835.0                 100.0  ...         38.586000   \n",
       "2552               429603.0                 100.0  ...         39.778900   \n",
       "3165               131614.0                 100.0  ...         35.111258   \n",
       "\n",
       "     incident_type                           incident_id  \\\n",
       "122            NaN  5fb18d4d-213f-4d83-a179-daaf11939e78   \n",
       "311            NaN  8c788c0a-d1fc-46d7-a17c-23f786831f7d   \n",
       "398            NaN  977ac7ce-4204-4cd3-9f89-727142165261   \n",
       "744            NaN  5555d1d7-0bb4-4c66-81b6-e1113987f217   \n",
       "884       Wildfire  d28bc34e-73a8-454d-9e55-dea7bdd40bee   \n",
       "1082      Wildfire  240b1f55-0f4e-448d-a4ce-3ecfec7a6c9d   \n",
       "1099      Wildfire  90b0daf7-5d84-42d9-bb35-bb78d4faf950   \n",
       "1192      Wildfire  75dafe80-f18a-4a4a-9a37-4b564c5f6014   \n",
       "1653      Wildfire  b8f267be-9911-44ee-8a73-7a0537fbd6fa   \n",
       "1660      Wildfire  22c6ea3c-304c-4b3b-bfba-7c9dfc63d9da   \n",
       "1666      Wildfire  9645c55f-2b11-40ab-9ae7-df424d685a2d   \n",
       "1683      Wildfire  7e359448-0344-4407-a289-e4fb7823ac3c   \n",
       "1828      Wildfire  882f419d-ff9e-4533-b8da-a428ffcfec6e   \n",
       "1841      Wildfire  00016d5d-1647-49e4-a02a-abf46b8480ae   \n",
       "1856          Fire  d0174b70-8652-4242-bf7f-b00e98a48319   \n",
       "1860      Wildfire  dc3380c7-ff32-4062-a4e8-be99b655f2c6   \n",
       "1862      Wildfire  1d1bb813-5955-438a-a2cd-0e2d46074f1a   \n",
       "1863      Wildfire  9284625d-a9bd-447b-b215-a40fe4a52697   \n",
       "1873      Wildfire  a21c4d1f-87ed-4db1-85ea-eae41c90a0ac   \n",
       "2552      Wildfire  d9a0045f-b30c-490b-b181-5be460544947   \n",
       "3165      Wildfire  fb7c1cc7-8104-4776-b89e-fd27cb9b7be9   \n",
       "\n",
       "                                           incident_url  \\\n",
       "122   https://www.fire.ca.gov/incidents/2013/8/17/ri...   \n",
       "311   https://www.fire.ca.gov/incidents/2015/7/31/ro...   \n",
       "398   https://www.fire.ca.gov/incidents/2016/7/22/so...   \n",
       "744   https://www.fire.ca.gov/incidents/2017/7/12/ch...   \n",
       "884   https://www.fire.ca.gov/incidents/2017/12/4/th...   \n",
       "1082  https://www.fire.ca.gov/incidents/2018/7/23/ca...   \n",
       "1099  https://www.fire.ca.gov/incidents/2018/7/27/ra...   \n",
       "1192  https://www.fire.ca.gov/incidents/2018/11/8/ca...   \n",
       "1653  https://www.fire.ca.gov/incidents/2020/8/16/au...   \n",
       "1660  https://www.fire.ca.gov/incidents/2020/8/16/sc...   \n",
       "1666  https://www.fire.ca.gov/incidents/2020/8/17/ln...   \n",
       "1683  https://www.fire.ca.gov/incidents/2020/9/4/cre...   \n",
       "1828  https://www.fire.ca.gov/incidents/2021/7/4/bec...   \n",
       "1841  https://www.fire.ca.gov/incidents/2021/7/13/di...   \n",
       "1856  https://www.fire.ca.gov/incidents/2021/7/30/mc...   \n",
       "1860  https://www.fire.ca.gov/incidents/2021/8/1/ant...   \n",
       "1862  https://www.fire.ca.gov/incidents/2021/7/30/mo...   \n",
       "1863  https://www.fire.ca.gov/incidents/2021/7/30/ri...   \n",
       "1873  https://www.fire.ca.gov/incidents/2021/8/14/ca...   \n",
       "2552  https://www.fire.ca.gov/incidents/2024/7/24/pa...   \n",
       "3165  https://www.fire.ca.gov/incidents/2025/8/1/gif...   \n",
       "\n",
       "     incident_date_extinguished incident_dateonly_extinguished  \\\n",
       "122        2013-09-06T18:30:00Z                     2013-09-06   \n",
       "311        2015-11-09T12:00:00Z                     2015-11-09   \n",
       "398        2016-10-13T11:30:00Z                     2016-10-13   \n",
       "744        2018-01-09T11:52:00Z                     2018-01-09   \n",
       "884        2018-01-12T11:24:00Z                     2018-01-12   \n",
       "1082       2018-08-30T09:37:00Z                     2018-08-30   \n",
       "1099       2019-01-04T09:33:00Z                     2019-01-04   \n",
       "1192       2018-11-25T08:00:00Z                     2018-11-25   \n",
       "1653       2020-11-11T10:21:44Z                     2020-11-11   \n",
       "1660       2020-10-01T10:29:00Z                     2020-10-01   \n",
       "1666       2020-10-02T10:38:00Z                     2020-10-02   \n",
       "1683                        NaN                            NaN   \n",
       "1828       2021-09-22T08:37:37Z                     2021-09-22   \n",
       "1841       2021-10-25T07:45:46Z                     2021-10-25   \n",
       "1856       2021-09-16T18:00:00Z                     2021-09-16   \n",
       "1860       2021-10-15T12:01:36Z                     2021-10-15   \n",
       "1862       2021-10-26T13:15:01Z                     2021-10-26   \n",
       "1863       2021-10-26T13:14:31Z                     2021-10-26   \n",
       "1873       2021-10-21T08:18:44Z                     2021-10-21   \n",
       "2552                        NaN                            NaN   \n",
       "3165                        NaN                            NaN   \n",
       "\n",
       "     incident_dateonly_created is_active calfire_incident notification_desired  \n",
       "122                 2013-08-17         N             True                False  \n",
       "311                 2015-07-31         N            False                False  \n",
       "398                 2016-07-22         N             True                False  \n",
       "744                 2017-07-12         N            False                False  \n",
       "884                 2017-12-04         N             True                False  \n",
       "1082                2018-07-23         N             True                False  \n",
       "1099                2018-07-27         N             True                False  \n",
       "1192                2018-11-08         N             True                False  \n",
       "1653                2020-08-16         N            False                False  \n",
       "1660                2020-08-16         N             True                False  \n",
       "1666                2020-08-17         N             True                False  \n",
       "1683                2020-09-04         N            False                False  \n",
       "1828                2021-07-04         N            False                False  \n",
       "1841                2021-07-13         N            False                False  \n",
       "1856                2021-07-30         N            False                False  \n",
       "1860                2021-08-01         N            False                False  \n",
       "1862                2021-07-30         N            False                False  \n",
       "1863                2021-07-30         N            False                False  \n",
       "1873                2021-08-14         N            False                False  \n",
       "2552                2024-07-24         N             True                False  \n",
       "3165                2025-08-01         N            False                False  \n",
       "\n",
       "[21 rows x 23 columns]"
      ]
     },
     "execution_count": 55,
     "metadata": {},
     "output_type": "execute_result"
    }
   ],
   "source": [
    "# You will need to write some code to answer the questions.\n",
    "# DF_raw.shape\n",
    "# DF_raw.groupby(by='incident_type').nunique()\n",
    "fire_acres = px.histogram(DF_raw[DF_raw['incident_acres_burned']<=2000],\n",
    "                  x='incident_acres_burned',\n",
    "                  color='calfire_incident', \n",
    "                  )\n",
    "\n",
    "fire_acres.update_layout(title='Acres Burned in Fires',\n",
    "                  title_x=0.5,\n",
    "                  xaxis_title=\"Acres Burned\",\n",
    "                  yaxis_title=\"Number of Fires\")\n",
    "fire_acres.show()\n",
    "DF_raw[DF_raw['incident_acres_burned']>100000]\n",
    "#DF_raw.sort_values(by='incident_acres_burned', ascending=False)"
   ]
  },
  {
   "cell_type": "markdown",
   "id": "0e1f769b-d87d-429a-9de8-c35af020525d",
   "metadata": {},
   "source": [
    "**Q1**: There are 23 variables and 3340 observations.\n",
    "\n",
    "**Q2**: There are 4 different incident types.\n",
    "\n",
    "**Q3**: 21 fires burned more than 100000 acres. The largest fire in the data is the August Complex, which includes the Doe Fire."
   ]
  },
  {
   "cell_type": "code",
   "execution_count": 59,
   "id": "fce27358-598b-42de-ba27-3c229abeb95b",
   "metadata": {},
   "outputs": [
    {
     "data": {
      "text/html": [
       "<div>\n",
       "<style scoped>\n",
       "    .dataframe tbody tr th:only-of-type {\n",
       "        vertical-align: middle;\n",
       "    }\n",
       "\n",
       "    .dataframe tbody tr th {\n",
       "        vertical-align: top;\n",
       "    }\n",
       "\n",
       "    .dataframe thead th {\n",
       "        text-align: right;\n",
       "    }\n",
       "</style>\n",
       "<table border=\"1\" class=\"dataframe\">\n",
       "  <thead>\n",
       "    <tr style=\"text-align: right;\">\n",
       "      <th></th>\n",
       "      <th>Incident</th>\n",
       "      <th>Counties</th>\n",
       "      <th>Started</th>\n",
       "      <th>Acres</th>\n",
       "      <th>Containment</th>\n",
       "    </tr>\n",
       "  </thead>\n",
       "  <tbody>\n",
       "    <tr>\n",
       "      <th>0</th>\n",
       "      <td>Dillon Fire</td>\n",
       "      <td>Siskiyou</td>\n",
       "      <td>8/25/2025</td>\n",
       "      <td>11929</td>\n",
       "      <td>95%</td>\n",
       "    </tr>\n",
       "    <tr>\n",
       "      <th>1</th>\n",
       "      <td>Blue Fire</td>\n",
       "      <td>Siskiyou</td>\n",
       "      <td>8/26/2025</td>\n",
       "      <td>3713</td>\n",
       "      <td>83%</td>\n",
       "    </tr>\n",
       "    <tr>\n",
       "      <th>2</th>\n",
       "      <td>Log Fire</td>\n",
       "      <td>Siskiyou</td>\n",
       "      <td>8/26/2025</td>\n",
       "      <td>1170</td>\n",
       "      <td>97%</td>\n",
       "    </tr>\n",
       "    <tr>\n",
       "      <th>3</th>\n",
       "      <td>Joaquin Fire</td>\n",
       "      <td>Fresno</td>\n",
       "      <td>9/24/2025</td>\n",
       "      <td>37</td>\n",
       "      <td>100%</td>\n",
       "    </tr>\n",
       "    <tr>\n",
       "      <th>4</th>\n",
       "      <td>Vleck Fire</td>\n",
       "      <td>Sacramento</td>\n",
       "      <td>9/29/2025</td>\n",
       "      <td>30</td>\n",
       "      <td>95%</td>\n",
       "    </tr>\n",
       "  </tbody>\n",
       "</table>\n",
       "</div>"
      ],
      "text/plain": [
       "       Incident    Counties    Started  Acres Containment\n",
       "0   Dillon Fire    Siskiyou  8/25/2025  11929         95%\n",
       "1     Blue Fire    Siskiyou  8/26/2025   3713         83%\n",
       "2      Log Fire    Siskiyou  8/26/2025   1170         97%\n",
       "3  Joaquin Fire      Fresno  9/24/2025     37        100%\n",
       "4    Vleck Fire  Sacramento  9/29/2025     30         95%"
      ]
     },
     "execution_count": 59,
     "metadata": {},
     "output_type": "execute_result"
    }
   ],
   "source": [
    "my_website = 'https://www.fire.ca.gov/incidents'\n",
    "DF = pd.read_html(my_website)\n",
    "DF[0]"
   ]
  },
  {
   "cell_type": "markdown",
   "id": "fa09683e-ac6a-4cb5-a47d-6cbf580524d2",
   "metadata": {},
   "source": [
    "## Try reading in some data from Wikipedia - html\n",
    "\n",
    "Here we will explore academy award winning films. Go to the [Wiki for the List of Academy Award Winning Films](https://en.wikipedia.org/wiki/List_of_Academy_Award%E2%80%93winning_films). Look at what type of data is there. How many tables? Any weird looking data?\n",
    "\n",
    "Now we will read the html data into Python and show the data in DF[0]"
   ]
  },
  {
   "cell_type": "code",
   "execution_count": 73,
   "id": "ddd62d4d-675f-4706-9b79-993e5b5ad343",
   "metadata": {},
   "outputs": [
    {
     "data": {
      "text/html": [
       "<div>\n",
       "<style scoped>\n",
       "    .dataframe tbody tr th:only-of-type {\n",
       "        vertical-align: middle;\n",
       "    }\n",
       "\n",
       "    .dataframe tbody tr th {\n",
       "        vertical-align: top;\n",
       "    }\n",
       "\n",
       "    .dataframe thead th {\n",
       "        text-align: right;\n",
       "    }\n",
       "</style>\n",
       "<table border=\"1\" class=\"dataframe\">\n",
       "  <thead>\n",
       "    <tr style=\"text-align: right;\">\n",
       "      <th></th>\n",
       "      <th>Film</th>\n",
       "      <th>Year</th>\n",
       "      <th>Awards</th>\n",
       "      <th>Nominations</th>\n",
       "    </tr>\n",
       "  </thead>\n",
       "  <tbody>\n",
       "    <tr>\n",
       "      <th>0</th>\n",
       "      <td>Anora</td>\n",
       "      <td>2024</td>\n",
       "      <td>5</td>\n",
       "      <td>6</td>\n",
       "    </tr>\n",
       "    <tr>\n",
       "      <th>1</th>\n",
       "      <td>The Brutalist</td>\n",
       "      <td>2024</td>\n",
       "      <td>3</td>\n",
       "      <td>10</td>\n",
       "    </tr>\n",
       "    <tr>\n",
       "      <th>2</th>\n",
       "      <td>Emilia Pérez</td>\n",
       "      <td>2024</td>\n",
       "      <td>2</td>\n",
       "      <td>13</td>\n",
       "    </tr>\n",
       "    <tr>\n",
       "      <th>3</th>\n",
       "      <td>Wicked</td>\n",
       "      <td>2024</td>\n",
       "      <td>2</td>\n",
       "      <td>10</td>\n",
       "    </tr>\n",
       "    <tr>\n",
       "      <th>4</th>\n",
       "      <td>Dune: Part Two</td>\n",
       "      <td>2024</td>\n",
       "      <td>2</td>\n",
       "      <td>5</td>\n",
       "    </tr>\n",
       "    <tr>\n",
       "      <th>...</th>\n",
       "      <td>...</td>\n",
       "      <td>...</td>\n",
       "      <td>...</td>\n",
       "      <td>...</td>\n",
       "    </tr>\n",
       "    <tr>\n",
       "      <th>1382</th>\n",
       "      <td>The Yankee Doodle Mouse</td>\n",
       "      <td>1943</td>\n",
       "      <td>1</td>\n",
       "      <td>1</td>\n",
       "    </tr>\n",
       "    <tr>\n",
       "      <th>1383</th>\n",
       "      <td>The Yearling</td>\n",
       "      <td>1946</td>\n",
       "      <td>2</td>\n",
       "      <td>7</td>\n",
       "    </tr>\n",
       "    <tr>\n",
       "      <th>1384</th>\n",
       "      <td>Yesterday, Today and Tomorrow (Ieri, oggi, dom...</td>\n",
       "      <td>1964</td>\n",
       "      <td>1</td>\n",
       "      <td>1</td>\n",
       "    </tr>\n",
       "    <tr>\n",
       "      <th>1385</th>\n",
       "      <td>You Can't Take It with You</td>\n",
       "      <td>1938</td>\n",
       "      <td>2</td>\n",
       "      <td>7</td>\n",
       "    </tr>\n",
       "    <tr>\n",
       "      <th>1386</th>\n",
       "      <td>Zorba the Greek (Alexis Zorbas)</td>\n",
       "      <td>1964</td>\n",
       "      <td>3</td>\n",
       "      <td>7</td>\n",
       "    </tr>\n",
       "  </tbody>\n",
       "</table>\n",
       "<p>1387 rows × 4 columns</p>\n",
       "</div>"
      ],
      "text/plain": [
       "                                                   Film  Year Awards  \\\n",
       "0                                                 Anora  2024      5   \n",
       "1                                         The Brutalist  2024      3   \n",
       "2                                          Emilia Pérez  2024      2   \n",
       "3                                                Wicked  2024      2   \n",
       "4                                        Dune: Part Two  2024      2   \n",
       "...                                                 ...   ...    ...   \n",
       "1382                            The Yankee Doodle Mouse  1943      1   \n",
       "1383                                       The Yearling  1946      2   \n",
       "1384  Yesterday, Today and Tomorrow (Ieri, oggi, dom...  1964      1   \n",
       "1385                         You Can't Take It with You  1938      2   \n",
       "1386                    Zorba the Greek (Alexis Zorbas)  1964      3   \n",
       "\n",
       "     Nominations  \n",
       "0              6  \n",
       "1             10  \n",
       "2             13  \n",
       "3             10  \n",
       "4              5  \n",
       "...          ...  \n",
       "1382           1  \n",
       "1383           7  \n",
       "1384           1  \n",
       "1385           7  \n",
       "1386           7  \n",
       "\n",
       "[1387 rows x 4 columns]"
      ]
     },
     "execution_count": 73,
     "metadata": {},
     "output_type": "execute_result"
    }
   ],
   "source": [
    "# Here is some helper code\n",
    "# This is code that will read in the data and then fix the Year column\n",
    "\n",
    "#####\n",
    "'''\n",
    "NOTE: Many websites try to stop you from scraping even simple tables. \n",
    "    In just one year wikipedia made big changes... so I changed the code here.\n",
    "    We can talk more about this code in class.\n",
    "'''\n",
    "import requests\n",
    "headers = {\n",
    "    'User-Agent': 'Mozilla/5.0 (Windows NT 10.0; Win64; x64) AppleWebKit/537.36 (KHTML, like Gecko) Chrome/91.0.4472.124 Safari/537.36'\n",
    "}\n",
    "my_website = \"https://en.wikipedia.org/wiki/List_of_Academy_Award%E2%80%93winning_films\"\n",
    "response = requests.get(my_website, headers=headers)\n",
    "#####\n",
    "\n",
    "# Normal pandas code\n",
    "DF = pd.read_html(response.content)\n",
    "DF_raw = DF[0]\n",
    "DF_raw['Year'] = DF_raw['Year'].apply(lambda x: int(x.split('/')[0]))\n",
    "DF_raw"
   ]
  },
  {
   "cell_type": "markdown",
   "id": "4c70b364-4c59-4631-87a4-552d7abaac2a",
   "metadata": {},
   "source": [
    "**Q4** Following along with the lecture notes or video, fix the data in the 'Awards' column."
   ]
  },
  {
   "cell_type": "code",
   "execution_count": 74,
   "id": "e51c0742-d796-4f63-a3e9-c98cdec76247",
   "metadata": {},
   "outputs": [
    {
     "data": {
      "text/html": [
       "<div>\n",
       "<style scoped>\n",
       "    .dataframe tbody tr th:only-of-type {\n",
       "        vertical-align: middle;\n",
       "    }\n",
       "\n",
       "    .dataframe tbody tr th {\n",
       "        vertical-align: top;\n",
       "    }\n",
       "\n",
       "    .dataframe thead th {\n",
       "        text-align: right;\n",
       "    }\n",
       "</style>\n",
       "<table border=\"1\" class=\"dataframe\">\n",
       "  <thead>\n",
       "    <tr style=\"text-align: right;\">\n",
       "      <th></th>\n",
       "      <th>Awards</th>\n",
       "      <th>count</th>\n",
       "    </tr>\n",
       "  </thead>\n",
       "  <tbody>\n",
       "    <tr>\n",
       "      <th>0</th>\n",
       "      <td>1</td>\n",
       "      <td>996</td>\n",
       "    </tr>\n",
       "    <tr>\n",
       "      <th>1</th>\n",
       "      <td>2</td>\n",
       "      <td>160</td>\n",
       "    </tr>\n",
       "    <tr>\n",
       "      <th>2</th>\n",
       "      <td>3</td>\n",
       "      <td>79</td>\n",
       "    </tr>\n",
       "    <tr>\n",
       "      <th>3</th>\n",
       "      <td>4</td>\n",
       "      <td>48</td>\n",
       "    </tr>\n",
       "    <tr>\n",
       "      <th>4</th>\n",
       "      <td>0</td>\n",
       "      <td>36</td>\n",
       "    </tr>\n",
       "    <tr>\n",
       "      <th>5</th>\n",
       "      <td>5</td>\n",
       "      <td>27</td>\n",
       "    </tr>\n",
       "    <tr>\n",
       "      <th>6</th>\n",
       "      <td>7</td>\n",
       "      <td>13</td>\n",
       "    </tr>\n",
       "    <tr>\n",
       "      <th>7</th>\n",
       "      <td>6</td>\n",
       "      <td>13</td>\n",
       "    </tr>\n",
       "    <tr>\n",
       "      <th>8</th>\n",
       "      <td>8</td>\n",
       "      <td>8</td>\n",
       "    </tr>\n",
       "    <tr>\n",
       "      <th>9</th>\n",
       "      <td>11</td>\n",
       "      <td>3</td>\n",
       "    </tr>\n",
       "    <tr>\n",
       "      <th>10</th>\n",
       "      <td>9</td>\n",
       "      <td>3</td>\n",
       "    </tr>\n",
       "    <tr>\n",
       "      <th>11</th>\n",
       "      <td>10</td>\n",
       "      <td>1</td>\n",
       "    </tr>\n",
       "  </tbody>\n",
       "</table>\n",
       "</div>"
      ],
      "text/plain": [
       "    Awards  count\n",
       "0        1    996\n",
       "1        2    160\n",
       "2        3     79\n",
       "3        4     48\n",
       "4        0     36\n",
       "5        5     27\n",
       "6        7     13\n",
       "7        6     13\n",
       "8        8      8\n",
       "9       11      3\n",
       "10       9      3\n",
       "11      10      1"
      ]
     },
     "execution_count": 74,
     "metadata": {},
     "output_type": "execute_result"
    }
   ],
   "source": [
    "# Your code here\n",
    "DF_raw['Awards'] = DF_raw['Awards'].apply(lambda x: int(x.split('(')[0]))\n",
    "award_data = DF_raw['Awards'].value_counts()\n",
    "DF_award = award_data.reset_index().rename(columns={\"index\": \"value\", 0: \"count\"})\n",
    "DF_award"
   ]
  },
  {
   "cell_type": "code",
   "execution_count": 75,
   "id": "6753f710-d62f-490b-bb6c-9f0ede4f39e5",
   "metadata": {},
   "outputs": [
    {
     "data": {
      "text/plain": [
       "Film           object\n",
       "Year            int64\n",
       "Awards          int64\n",
       "Nominations    object\n",
       "dtype: object"
      ]
     },
     "execution_count": 75,
     "metadata": {},
     "output_type": "execute_result"
    }
   ],
   "source": [
    "DF_raw.dtypes"
   ]
  },
  {
   "cell_type": "markdown",
   "id": "ada5ce86-e820-481b-a8c8-ab5f063b0ad5",
   "metadata": {},
   "source": [
    "**Q5** Now try to fix the data in the \"Nominations\" column - see if you can do it without looking at the answer."
   ]
  },
  {
   "cell_type": "code",
   "execution_count": 78,
   "id": "57571cc2-dbca-4354-b0db-676b03005f3c",
   "metadata": {},
   "outputs": [
    {
     "data": {
      "text/html": [
       "<div>\n",
       "<style scoped>\n",
       "    .dataframe tbody tr th:only-of-type {\n",
       "        vertical-align: middle;\n",
       "    }\n",
       "\n",
       "    .dataframe tbody tr th {\n",
       "        vertical-align: top;\n",
       "    }\n",
       "\n",
       "    .dataframe thead th {\n",
       "        text-align: right;\n",
       "    }\n",
       "</style>\n",
       "<table border=\"1\" class=\"dataframe\">\n",
       "  <thead>\n",
       "    <tr style=\"text-align: right;\">\n",
       "      <th></th>\n",
       "      <th>Nominations</th>\n",
       "      <th>count</th>\n",
       "    </tr>\n",
       "  </thead>\n",
       "  <tbody>\n",
       "    <tr>\n",
       "      <th>0</th>\n",
       "      <td>1</td>\n",
       "      <td>557</td>\n",
       "    </tr>\n",
       "    <tr>\n",
       "      <th>1</th>\n",
       "      <td>2</td>\n",
       "      <td>143</td>\n",
       "    </tr>\n",
       "    <tr>\n",
       "      <th>2</th>\n",
       "      <td>4</td>\n",
       "      <td>115</td>\n",
       "    </tr>\n",
       "    <tr>\n",
       "      <th>3</th>\n",
       "      <td>5</td>\n",
       "      <td>106</td>\n",
       "    </tr>\n",
       "    <tr>\n",
       "      <th>4</th>\n",
       "      <td>3</td>\n",
       "      <td>105</td>\n",
       "    </tr>\n",
       "    <tr>\n",
       "      <th>5</th>\n",
       "      <td>6</td>\n",
       "      <td>81</td>\n",
       "    </tr>\n",
       "    <tr>\n",
       "      <th>6</th>\n",
       "      <td>7</td>\n",
       "      <td>75</td>\n",
       "    </tr>\n",
       "    <tr>\n",
       "      <th>7</th>\n",
       "      <td>8</td>\n",
       "      <td>62</td>\n",
       "    </tr>\n",
       "    <tr>\n",
       "      <th>8</th>\n",
       "      <td>10</td>\n",
       "      <td>42</td>\n",
       "    </tr>\n",
       "    <tr>\n",
       "      <th>9</th>\n",
       "      <td>9</td>\n",
       "      <td>31</td>\n",
       "    </tr>\n",
       "    <tr>\n",
       "      <th>10</th>\n",
       "      <td>11</td>\n",
       "      <td>24</td>\n",
       "    </tr>\n",
       "    <tr>\n",
       "      <th>11</th>\n",
       "      <td>12</td>\n",
       "      <td>17</td>\n",
       "    </tr>\n",
       "    <tr>\n",
       "      <th>12</th>\n",
       "      <td>0</td>\n",
       "      <td>14</td>\n",
       "    </tr>\n",
       "    <tr>\n",
       "      <th>13</th>\n",
       "      <td>13</td>\n",
       "      <td>12</td>\n",
       "    </tr>\n",
       "    <tr>\n",
       "      <th>14</th>\n",
       "      <td>14</td>\n",
       "      <td>3</td>\n",
       "    </tr>\n",
       "  </tbody>\n",
       "</table>\n",
       "</div>"
      ],
      "text/plain": [
       "    Nominations  count\n",
       "0             1    557\n",
       "1             2    143\n",
       "2             4    115\n",
       "3             5    106\n",
       "4             3    105\n",
       "5             6     81\n",
       "6             7     75\n",
       "7             8     62\n",
       "8            10     42\n",
       "9             9     31\n",
       "10           11     24\n",
       "11           12     17\n",
       "12            0     14\n",
       "13           13     12\n",
       "14           14      3"
      ]
     },
     "execution_count": 78,
     "metadata": {},
     "output_type": "execute_result"
    }
   ],
   "source": [
    "# Your code here\n",
    "DF_raw['Nominations'] = DF_raw['Nominations'].apply(lambda x: int(x.split('[')[0]))\n",
    "nomination_data = DF_raw['Nominations'].value_counts()\n",
    "DF_nomination = nomination_data.reset_index().rename(columns={\"index\": \"value\", 0: \"count\"})\n",
    "DF_nomination"
   ]
  },
  {
   "cell_type": "code",
   "execution_count": 79,
   "id": "3af1e40a-cbe0-4c0d-bb78-bcc23452a19d",
   "metadata": {},
   "outputs": [
    {
     "data": {
      "text/plain": [
       "Film           object\n",
       "Year            int64\n",
       "Awards          int64\n",
       "Nominations     int64\n",
       "dtype: object"
      ]
     },
     "execution_count": 79,
     "metadata": {},
     "output_type": "execute_result"
    }
   ],
   "source": [
    "DF_raw.dtypes"
   ]
  },
  {
   "cell_type": "markdown",
   "id": "8f1c8227-7b3e-4067-9b49-bd9c58752402",
   "metadata": {},
   "source": [
    "## Problem 1\n",
    "\n",
    "Your homework today will be to see if you can find some data of your own. This can be the first steps you take toward your final project. \n",
    "\n",
    "You should:\n",
    "\n",
    "* Find some data online\n",
    "* Read that data into Python using the Pandas commands we learned\n",
    "* Look at the DataFrame - number of variables, number of observations, AND the dtypes. Comment on what you see.\n",
    "* Try to do summary statistics (.describe()). Does it work like expected?\n",
    "* Attempt to fix any data, or explain why the data does not need to be fixed.\n",
    "* Make some sort of graph using columns in your data."
   ]
  },
  {
   "cell_type": "code",
   "execution_count": 94,
   "id": "578ad570-5dfa-46a0-86c8-f4610bacaf36",
   "metadata": {},
   "outputs": [
    {
     "data": {
      "text/html": [
       "<div>\n",
       "<style scoped>\n",
       "    .dataframe tbody tr th:only-of-type {\n",
       "        vertical-align: middle;\n",
       "    }\n",
       "\n",
       "    .dataframe tbody tr th {\n",
       "        vertical-align: top;\n",
       "    }\n",
       "\n",
       "    .dataframe thead th {\n",
       "        text-align: right;\n",
       "    }\n",
       "</style>\n",
       "<table border=\"1\" class=\"dataframe\">\n",
       "  <thead>\n",
       "    <tr style=\"text-align: right;\">\n",
       "      <th></th>\n",
       "      <th>Match Number</th>\n",
       "      <th>Map</th>\n",
       "      <th>Agent</th>\n",
       "      <th>Rounds Won</th>\n",
       "      <th>Rounds Lost</th>\n",
       "      <th>Kills</th>\n",
       "      <th>Deaths</th>\n",
       "      <th>Assists</th>\n",
       "      <th>KD Ratio</th>\n",
       "      <th>Combat Score</th>\n",
       "      <th>...</th>\n",
       "      <th>Ranking</th>\n",
       "      <th>Average Rank</th>\n",
       "      <th>Result</th>\n",
       "      <th>RR Change</th>\n",
       "      <th>RR</th>\n",
       "      <th>Rank</th>\n",
       "      <th>Overflow RR</th>\n",
       "      <th>Date</th>\n",
       "      <th>Act</th>\n",
       "      <th>Notes?</th>\n",
       "    </tr>\n",
       "  </thead>\n",
       "  <tbody>\n",
       "    <tr>\n",
       "      <th>0</th>\n",
       "      <td>171</td>\n",
       "      <td>Fracture</td>\n",
       "      <td>Killjoy</td>\n",
       "      <td>14</td>\n",
       "      <td>14</td>\n",
       "      <td>15</td>\n",
       "      <td>22</td>\n",
       "      <td>4</td>\n",
       "      <td>0.681818</td>\n",
       "      <td>4440</td>\n",
       "      <td>...</td>\n",
       "      <td>9th</td>\n",
       "      <td>Platinum 3</td>\n",
       "      <td>Draw</td>\n",
       "      <td>Placements</td>\n",
       "      <td>Placements</td>\n",
       "      <td>Placements</td>\n",
       "      <td>Placements</td>\n",
       "      <td>1/14/2025</td>\n",
       "      <td>Season 2025 Act 1</td>\n",
       "      <td>NaN</td>\n",
       "    </tr>\n",
       "    <tr>\n",
       "      <th>1</th>\n",
       "      <td>172</td>\n",
       "      <td>Lotus</td>\n",
       "      <td>Raze</td>\n",
       "      <td>13</td>\n",
       "      <td>5</td>\n",
       "      <td>14</td>\n",
       "      <td>13</td>\n",
       "      <td>7</td>\n",
       "      <td>1.076923</td>\n",
       "      <td>4400</td>\n",
       "      <td>...</td>\n",
       "      <td>3rd</td>\n",
       "      <td>Diamond 1</td>\n",
       "      <td>Win</td>\n",
       "      <td>Placements</td>\n",
       "      <td>Placements</td>\n",
       "      <td>Placements</td>\n",
       "      <td>Placements</td>\n",
       "      <td>1/14/2025</td>\n",
       "      <td>Season 2025 Act 1</td>\n",
       "      <td>NaN</td>\n",
       "    </tr>\n",
       "    <tr>\n",
       "      <th>2</th>\n",
       "      <td>173</td>\n",
       "      <td>Split</td>\n",
       "      <td>Breach</td>\n",
       "      <td>12</td>\n",
       "      <td>14</td>\n",
       "      <td>20</td>\n",
       "      <td>17</td>\n",
       "      <td>13</td>\n",
       "      <td>1.176471</td>\n",
       "      <td>5850</td>\n",
       "      <td>...</td>\n",
       "      <td>5th</td>\n",
       "      <td>Diamond 1</td>\n",
       "      <td>Loss</td>\n",
       "      <td>Placements</td>\n",
       "      <td>Placements</td>\n",
       "      <td>Placements</td>\n",
       "      <td>Placements</td>\n",
       "      <td>1/14/2025</td>\n",
       "      <td>Season 2025 Act 1</td>\n",
       "      <td>NaN</td>\n",
       "    </tr>\n",
       "    <tr>\n",
       "      <th>3</th>\n",
       "      <td>174</td>\n",
       "      <td>Fracture</td>\n",
       "      <td>Killjoy</td>\n",
       "      <td>15</td>\n",
       "      <td>13</td>\n",
       "      <td>18</td>\n",
       "      <td>20</td>\n",
       "      <td>6</td>\n",
       "      <td>0.900000</td>\n",
       "      <td>5304</td>\n",
       "      <td>...</td>\n",
       "      <td>7th</td>\n",
       "      <td>Platinum 1</td>\n",
       "      <td>Win</td>\n",
       "      <td>Placements</td>\n",
       "      <td>Placements</td>\n",
       "      <td>Placements</td>\n",
       "      <td>Placements</td>\n",
       "      <td>1/15/2025</td>\n",
       "      <td>Season 2025 Act 1</td>\n",
       "      <td>NaN</td>\n",
       "    </tr>\n",
       "    <tr>\n",
       "      <th>4</th>\n",
       "      <td>175</td>\n",
       "      <td>Abyss</td>\n",
       "      <td>Sova</td>\n",
       "      <td>3</td>\n",
       "      <td>13</td>\n",
       "      <td>3</td>\n",
       "      <td>14</td>\n",
       "      <td>9</td>\n",
       "      <td>0.214286</td>\n",
       "      <td>1517</td>\n",
       "      <td>...</td>\n",
       "      <td>10th</td>\n",
       "      <td>Diamond 2</td>\n",
       "      <td>Loss</td>\n",
       "      <td>Placements</td>\n",
       "      <td>1350</td>\n",
       "      <td>Platinum 2</td>\n",
       "      <td>50 RR</td>\n",
       "      <td>1/15/2025</td>\n",
       "      <td>Season 2025 Act 1</td>\n",
       "      <td>ended pi!</td>\n",
       "    </tr>\n",
       "    <tr>\n",
       "      <th>...</th>\n",
       "      <td>...</td>\n",
       "      <td>...</td>\n",
       "      <td>...</td>\n",
       "      <td>...</td>\n",
       "      <td>...</td>\n",
       "      <td>...</td>\n",
       "      <td>...</td>\n",
       "      <td>...</td>\n",
       "      <td>...</td>\n",
       "      <td>...</td>\n",
       "      <td>...</td>\n",
       "      <td>...</td>\n",
       "      <td>...</td>\n",
       "      <td>...</td>\n",
       "      <td>...</td>\n",
       "      <td>...</td>\n",
       "      <td>...</td>\n",
       "      <td>...</td>\n",
       "      <td>...</td>\n",
       "      <td>...</td>\n",
       "      <td>...</td>\n",
       "    </tr>\n",
       "    <tr>\n",
       "      <th>127</th>\n",
       "      <td>298</td>\n",
       "      <td>Ascent</td>\n",
       "      <td>Sova</td>\n",
       "      <td>13</td>\n",
       "      <td>10</td>\n",
       "      <td>25</td>\n",
       "      <td>15</td>\n",
       "      <td>9</td>\n",
       "      <td>1.666667</td>\n",
       "      <td>6678</td>\n",
       "      <td>...</td>\n",
       "      <td>MVP</td>\n",
       "      <td>Gold 1</td>\n",
       "      <td>Win</td>\n",
       "      <td>14</td>\n",
       "      <td>1246</td>\n",
       "      <td>Platinum 1</td>\n",
       "      <td>46 RR</td>\n",
       "      <td>9/24/2025</td>\n",
       "      <td>Season 2025 Act 5</td>\n",
       "      <td>NaN</td>\n",
       "    </tr>\n",
       "    <tr>\n",
       "      <th>128</th>\n",
       "      <td>299</td>\n",
       "      <td>Bind</td>\n",
       "      <td>Brimstone</td>\n",
       "      <td>13</td>\n",
       "      <td>5</td>\n",
       "      <td>15</td>\n",
       "      <td>11</td>\n",
       "      <td>8</td>\n",
       "      <td>1.363636</td>\n",
       "      <td>4189</td>\n",
       "      <td>...</td>\n",
       "      <td>4th</td>\n",
       "      <td>Gold 1</td>\n",
       "      <td>Win</td>\n",
       "      <td>16</td>\n",
       "      <td>1262</td>\n",
       "      <td>Platinum 1</td>\n",
       "      <td>62 RR</td>\n",
       "      <td>9/25/2025</td>\n",
       "      <td>Season 2025 Act 5</td>\n",
       "      <td>NaN</td>\n",
       "    </tr>\n",
       "    <tr>\n",
       "      <th>129</th>\n",
       "      <td>300</td>\n",
       "      <td>Sunset</td>\n",
       "      <td>Gekko</td>\n",
       "      <td>13</td>\n",
       "      <td>8</td>\n",
       "      <td>19</td>\n",
       "      <td>14</td>\n",
       "      <td>8</td>\n",
       "      <td>1.357143</td>\n",
       "      <td>5568</td>\n",
       "      <td>...</td>\n",
       "      <td>2nd</td>\n",
       "      <td>Platinum 2</td>\n",
       "      <td>Win</td>\n",
       "      <td>30</td>\n",
       "      <td>1292</td>\n",
       "      <td>Platinum 1</td>\n",
       "      <td>92 RR</td>\n",
       "      <td>9/26/2025</td>\n",
       "      <td>Season 2025 Act 5</td>\n",
       "      <td>NaN</td>\n",
       "    </tr>\n",
       "    <tr>\n",
       "      <th>130</th>\n",
       "      <td>301</td>\n",
       "      <td>Lotus</td>\n",
       "      <td>Omen</td>\n",
       "      <td>13</td>\n",
       "      <td>10</td>\n",
       "      <td>20</td>\n",
       "      <td>15</td>\n",
       "      <td>11</td>\n",
       "      <td>1.333333</td>\n",
       "      <td>5461</td>\n",
       "      <td>...</td>\n",
       "      <td>5th</td>\n",
       "      <td>Platinum 1</td>\n",
       "      <td>Win</td>\n",
       "      <td>21</td>\n",
       "      <td>1313</td>\n",
       "      <td>Platinum 2</td>\n",
       "      <td>13 RR</td>\n",
       "      <td>9/26/2025</td>\n",
       "      <td>Season 2025 Act 5</td>\n",
       "      <td>NaN</td>\n",
       "    </tr>\n",
       "    <tr>\n",
       "      <th>131</th>\n",
       "      <td>302</td>\n",
       "      <td>Sunset</td>\n",
       "      <td>Sova</td>\n",
       "      <td>9</td>\n",
       "      <td>13</td>\n",
       "      <td>10</td>\n",
       "      <td>16</td>\n",
       "      <td>4</td>\n",
       "      <td>0.625000</td>\n",
       "      <td>2763</td>\n",
       "      <td>...</td>\n",
       "      <td>9th</td>\n",
       "      <td>Platinum 2</td>\n",
       "      <td>Loss</td>\n",
       "      <td>-19</td>\n",
       "      <td>1300</td>\n",
       "      <td>Platinum 2</td>\n",
       "      <td>0 RR</td>\n",
       "      <td>9/26/2025</td>\n",
       "      <td>Season 2025 Act 5</td>\n",
       "      <td>NaN</td>\n",
       "    </tr>\n",
       "  </tbody>\n",
       "</table>\n",
       "<p>132 rows × 26 columns</p>\n",
       "</div>"
      ],
      "text/plain": [
       "     Match Number       Map      Agent  Rounds Won  Rounds Lost  Kills  \\\n",
       "0             171  Fracture    Killjoy          14           14     15   \n",
       "1             172     Lotus       Raze          13            5     14   \n",
       "2             173     Split     Breach          12           14     20   \n",
       "3             174  Fracture    Killjoy          15           13     18   \n",
       "4             175     Abyss       Sova           3           13      3   \n",
       "..            ...       ...        ...         ...          ...    ...   \n",
       "127           298    Ascent       Sova          13           10     25   \n",
       "128           299      Bind  Brimstone          13            5     15   \n",
       "129           300    Sunset      Gekko          13            8     19   \n",
       "130           301     Lotus       Omen          13           10     20   \n",
       "131           302    Sunset       Sova           9           13     10   \n",
       "\n",
       "     Deaths  Assists  KD Ratio  Combat Score  ...  Ranking  Average Rank  \\\n",
       "0        22        4  0.681818          4440  ...      9th    Platinum 3   \n",
       "1        13        7  1.076923          4400  ...      3rd     Diamond 1   \n",
       "2        17       13  1.176471          5850  ...      5th     Diamond 1   \n",
       "3        20        6  0.900000          5304  ...      7th    Platinum 1   \n",
       "4        14        9  0.214286          1517  ...     10th     Diamond 2   \n",
       "..      ...      ...       ...           ...  ...      ...           ...   \n",
       "127      15        9  1.666667          6678  ...      MVP        Gold 1   \n",
       "128      11        8  1.363636          4189  ...      4th        Gold 1   \n",
       "129      14        8  1.357143          5568  ...      2nd    Platinum 2   \n",
       "130      15       11  1.333333          5461  ...      5th    Platinum 1   \n",
       "131      16        4  0.625000          2763  ...      9th    Platinum 2   \n",
       "\n",
       "     Result   RR Change          RR        Rank Overflow RR       Date  \\\n",
       "0      Draw  Placements  Placements  Placements  Placements  1/14/2025   \n",
       "1       Win  Placements  Placements  Placements  Placements  1/14/2025   \n",
       "2      Loss  Placements  Placements  Placements  Placements  1/14/2025   \n",
       "3       Win  Placements  Placements  Placements  Placements  1/15/2025   \n",
       "4      Loss  Placements        1350  Platinum 2       50 RR  1/15/2025   \n",
       "..      ...         ...         ...         ...         ...        ...   \n",
       "127     Win          14        1246  Platinum 1       46 RR  9/24/2025   \n",
       "128     Win          16        1262  Platinum 1       62 RR  9/25/2025   \n",
       "129     Win          30        1292  Platinum 1       92 RR  9/26/2025   \n",
       "130     Win          21        1313  Platinum 2       13 RR  9/26/2025   \n",
       "131    Loss         -19        1300  Platinum 2        0 RR  9/26/2025   \n",
       "\n",
       "                   Act     Notes?  \n",
       "0    Season 2025 Act 1        NaN  \n",
       "1    Season 2025 Act 1        NaN  \n",
       "2    Season 2025 Act 1        NaN  \n",
       "3    Season 2025 Act 1        NaN  \n",
       "4    Season 2025 Act 1  ended pi!  \n",
       "..                 ...        ...  \n",
       "127  Season 2025 Act 5        NaN  \n",
       "128  Season 2025 Act 5        NaN  \n",
       "129  Season 2025 Act 5        NaN  \n",
       "130  Season 2025 Act 5        NaN  \n",
       "131  Season 2025 Act 5        NaN  \n",
       "\n",
       "[132 rows x 26 columns]"
      ]
     },
     "execution_count": 94,
     "metadata": {},
     "output_type": "execute_result"
    }
   ],
   "source": [
    "DF_valorant = pd.read_csv('valdata.csv')\n",
    "DF_valorant"
   ]
  },
  {
   "cell_type": "code",
   "execution_count": 95,
   "id": "11c8e051-83a5-4bbf-918e-e56179c5050d",
   "metadata": {},
   "outputs": [
    {
     "data": {
      "text/plain": [
       "Match Number              int64\n",
       "Map                      object\n",
       "Agent                    object\n",
       "Rounds Won                int64\n",
       "Rounds Lost               int64\n",
       "Kills                     int64\n",
       "Deaths                    int64\n",
       "Assists                   int64\n",
       "KD Ratio                float64\n",
       "Combat Score              int64\n",
       "Average Combat Score    float64\n",
       "Tracker Score             int64\n",
       "Damage Dealt              int64\n",
       "Damage Taken              int64\n",
       "Damage Delta            float64\n",
       "Round Win Percentage    float64\n",
       "Ranking                  object\n",
       "Average Rank             object\n",
       "Result                   object\n",
       "RR Change                object\n",
       "RR                       object\n",
       "Rank                     object\n",
       "Overflow RR              object\n",
       "Date                     object\n",
       "Act                      object\n",
       "Notes?                   object\n",
       "dtype: object"
      ]
     },
     "execution_count": 95,
     "metadata": {},
     "output_type": "execute_result"
    }
   ],
   "source": [
    "DF_valorant.dtypes"
   ]
  },
  {
   "cell_type": "markdown",
   "id": "d869e81d-40be-474f-b1d4-d39670a66ed5",
   "metadata": {},
   "source": [
    "The data has 26 variables and 132 observations. The dtypes are what I expected, as a few numeric categories have some text in them for periods where they are unmeasurable."
   ]
  },
  {
   "cell_type": "code",
   "execution_count": 83,
   "id": "016d82d3-3250-4c6f-93ff-56f0eb445388",
   "metadata": {},
   "outputs": [
    {
     "data": {
      "text/html": [
       "<div>\n",
       "<style scoped>\n",
       "    .dataframe tbody tr th:only-of-type {\n",
       "        vertical-align: middle;\n",
       "    }\n",
       "\n",
       "    .dataframe tbody tr th {\n",
       "        vertical-align: top;\n",
       "    }\n",
       "\n",
       "    .dataframe thead th {\n",
       "        text-align: right;\n",
       "    }\n",
       "</style>\n",
       "<table border=\"1\" class=\"dataframe\">\n",
       "  <thead>\n",
       "    <tr style=\"text-align: right;\">\n",
       "      <th></th>\n",
       "      <th>Match Number</th>\n",
       "      <th>Rounds Won</th>\n",
       "      <th>Rounds Lost</th>\n",
       "      <th>Kills</th>\n",
       "      <th>Deaths</th>\n",
       "      <th>Assists</th>\n",
       "      <th>KD Ratio</th>\n",
       "      <th>Combat Score</th>\n",
       "      <th>Average Combat Score</th>\n",
       "      <th>Tracker Score</th>\n",
       "      <th>Damage Dealt</th>\n",
       "      <th>Damage Taken</th>\n",
       "      <th>Damage Delta</th>\n",
       "      <th>Round Win Percentage</th>\n",
       "    </tr>\n",
       "  </thead>\n",
       "  <tbody>\n",
       "    <tr>\n",
       "      <th>count</th>\n",
       "      <td>132.000000</td>\n",
       "      <td>132.000000</td>\n",
       "      <td>132.000000</td>\n",
       "      <td>132.000000</td>\n",
       "      <td>132.000000</td>\n",
       "      <td>132.000000</td>\n",
       "      <td>132.000000</td>\n",
       "      <td>132.000000</td>\n",
       "      <td>132.000000</td>\n",
       "      <td>132.000000</td>\n",
       "      <td>132.000000</td>\n",
       "      <td>132.000000</td>\n",
       "      <td>132.000000</td>\n",
       "      <td>132.000000</td>\n",
       "    </tr>\n",
       "    <tr>\n",
       "      <th>mean</th>\n",
       "      <td>236.500000</td>\n",
       "      <td>10.704545</td>\n",
       "      <td>11.000000</td>\n",
       "      <td>14.492424</td>\n",
       "      <td>14.803030</td>\n",
       "      <td>7.212121</td>\n",
       "      <td>1.039451</td>\n",
       "      <td>4264.151515</td>\n",
       "      <td>195.925329</td>\n",
       "      <td>553.666667</td>\n",
       "      <td>2837.015152</td>\n",
       "      <td>2782.280303</td>\n",
       "      <td>1.054170</td>\n",
       "      <td>49.219238</td>\n",
       "    </tr>\n",
       "    <tr>\n",
       "      <th>std</th>\n",
       "      <td>38.249183</td>\n",
       "      <td>3.240344</td>\n",
       "      <td>3.167102</td>\n",
       "      <td>4.863788</td>\n",
       "      <td>3.508853</td>\n",
       "      <td>3.864164</td>\n",
       "      <td>0.444364</td>\n",
       "      <td>1295.875674</td>\n",
       "      <td>49.468749</td>\n",
       "      <td>214.528301</td>\n",
       "      <td>832.654763</td>\n",
       "      <td>632.612556</td>\n",
       "      <td>0.337936</td>\n",
       "      <td>14.772608</td>\n",
       "    </tr>\n",
       "    <tr>\n",
       "      <th>min</th>\n",
       "      <td>171.000000</td>\n",
       "      <td>3.000000</td>\n",
       "      <td>2.000000</td>\n",
       "      <td>3.000000</td>\n",
       "      <td>5.000000</td>\n",
       "      <td>0.000000</td>\n",
       "      <td>0.214286</td>\n",
       "      <td>1489.000000</td>\n",
       "      <td>84.052632</td>\n",
       "      <td>135.000000</td>\n",
       "      <td>917.000000</td>\n",
       "      <td>1080.000000</td>\n",
       "      <td>0.407013</td>\n",
       "      <td>18.750000</td>\n",
       "    </tr>\n",
       "    <tr>\n",
       "      <th>25%</th>\n",
       "      <td>203.750000</td>\n",
       "      <td>9.000000</td>\n",
       "      <td>8.000000</td>\n",
       "      <td>11.000000</td>\n",
       "      <td>13.000000</td>\n",
       "      <td>4.000000</td>\n",
       "      <td>0.687500</td>\n",
       "      <td>3312.000000</td>\n",
       "      <td>155.856061</td>\n",
       "      <td>383.500000</td>\n",
       "      <td>2262.750000</td>\n",
       "      <td>2344.500000</td>\n",
       "      <td>0.795609</td>\n",
       "      <td>40.909091</td>\n",
       "    </tr>\n",
       "    <tr>\n",
       "      <th>50%</th>\n",
       "      <td>236.500000</td>\n",
       "      <td>12.500000</td>\n",
       "      <td>13.000000</td>\n",
       "      <td>14.000000</td>\n",
       "      <td>15.000000</td>\n",
       "      <td>6.000000</td>\n",
       "      <td>0.944272</td>\n",
       "      <td>4056.500000</td>\n",
       "      <td>196.543590</td>\n",
       "      <td>549.000000</td>\n",
       "      <td>2737.500000</td>\n",
       "      <td>2793.000000</td>\n",
       "      <td>1.022361</td>\n",
       "      <td>46.291209</td>\n",
       "    </tr>\n",
       "    <tr>\n",
       "      <th>75%</th>\n",
       "      <td>269.250000</td>\n",
       "      <td>13.000000</td>\n",
       "      <td>13.000000</td>\n",
       "      <td>18.000000</td>\n",
       "      <td>17.000000</td>\n",
       "      <td>9.000000</td>\n",
       "      <td>1.313322</td>\n",
       "      <td>5265.000000</td>\n",
       "      <td>228.654352</td>\n",
       "      <td>743.500000</td>\n",
       "      <td>3408.000000</td>\n",
       "      <td>3201.500000</td>\n",
       "      <td>1.222734</td>\n",
       "      <td>61.904762</td>\n",
       "    </tr>\n",
       "    <tr>\n",
       "      <th>max</th>\n",
       "      <td>302.000000</td>\n",
       "      <td>15.000000</td>\n",
       "      <td>15.000000</td>\n",
       "      <td>31.000000</td>\n",
       "      <td>22.000000</td>\n",
       "      <td>22.000000</td>\n",
       "      <td>2.600000</td>\n",
       "      <td>8726.000000</td>\n",
       "      <td>303.789474</td>\n",
       "      <td>966.000000</td>\n",
       "      <td>5765.000000</td>\n",
       "      <td>4369.000000</td>\n",
       "      <td>2.100000</td>\n",
       "      <td>86.666667</td>\n",
       "    </tr>\n",
       "  </tbody>\n",
       "</table>\n",
       "</div>"
      ],
      "text/plain": [
       "       Match Number  Rounds Won  Rounds Lost       Kills      Deaths  \\\n",
       "count    132.000000  132.000000   132.000000  132.000000  132.000000   \n",
       "mean     236.500000   10.704545    11.000000   14.492424   14.803030   \n",
       "std       38.249183    3.240344     3.167102    4.863788    3.508853   \n",
       "min      171.000000    3.000000     2.000000    3.000000    5.000000   \n",
       "25%      203.750000    9.000000     8.000000   11.000000   13.000000   \n",
       "50%      236.500000   12.500000    13.000000   14.000000   15.000000   \n",
       "75%      269.250000   13.000000    13.000000   18.000000   17.000000   \n",
       "max      302.000000   15.000000    15.000000   31.000000   22.000000   \n",
       "\n",
       "          Assists    KD Ratio  Combat Score  Average Combat Score  \\\n",
       "count  132.000000  132.000000    132.000000            132.000000   \n",
       "mean     7.212121    1.039451   4264.151515            195.925329   \n",
       "std      3.864164    0.444364   1295.875674             49.468749   \n",
       "min      0.000000    0.214286   1489.000000             84.052632   \n",
       "25%      4.000000    0.687500   3312.000000            155.856061   \n",
       "50%      6.000000    0.944272   4056.500000            196.543590   \n",
       "75%      9.000000    1.313322   5265.000000            228.654352   \n",
       "max     22.000000    2.600000   8726.000000            303.789474   \n",
       "\n",
       "       Tracker Score  Damage Dealt  Damage Taken  Damage Delta  \\\n",
       "count     132.000000    132.000000    132.000000    132.000000   \n",
       "mean      553.666667   2837.015152   2782.280303      1.054170   \n",
       "std       214.528301    832.654763    632.612556      0.337936   \n",
       "min       135.000000    917.000000   1080.000000      0.407013   \n",
       "25%       383.500000   2262.750000   2344.500000      0.795609   \n",
       "50%       549.000000   2737.500000   2793.000000      1.022361   \n",
       "75%       743.500000   3408.000000   3201.500000      1.222734   \n",
       "max       966.000000   5765.000000   4369.000000      2.100000   \n",
       "\n",
       "       Round Win Percentage  \n",
       "count            132.000000  \n",
       "mean              49.219238  \n",
       "std               14.772608  \n",
       "min               18.750000  \n",
       "25%               40.909091  \n",
       "50%               46.291209  \n",
       "75%               61.904762  \n",
       "max               86.666667  "
      ]
     },
     "execution_count": 83,
     "metadata": {},
     "output_type": "execute_result"
    }
   ],
   "source": [
    "DF_valorant.describe()"
   ]
  },
  {
   "cell_type": "markdown",
   "id": "2e3dacd7-2cce-4ddd-a37e-836efcf5152d",
   "metadata": {},
   "source": [
    "df.describe works like expected. Though, it is funny to see how my mean KD ratio is higher than my actual cumulative KD ratio. "
   ]
  },
  {
   "cell_type": "code",
   "execution_count": 96,
   "id": "01a26023-e8a2-474f-9c37-c4c10da3ec64",
   "metadata": {},
   "outputs": [],
   "source": [
    "DF_valorant['Ranking'] = DF_valorant['Ranking'].replace('MVP', '1')"
   ]
  },
  {
   "cell_type": "code",
   "execution_count": 100,
   "id": "33ad1526-3bc3-46c8-90c8-7606db70e6f8",
   "metadata": {},
   "outputs": [],
   "source": [
    "DF_valorant['Ranking'] = DF_valorant['Ranking'].replace('2nd', '2')"
   ]
  },
  {
   "cell_type": "code",
   "execution_count": 102,
   "id": "93fd1773-31f3-416e-8654-146fcbcead0d",
   "metadata": {},
   "outputs": [],
   "source": [
    "DF_valorant['Ranking'] = DF_valorant['Ranking'].replace('3rd', '3')\n",
    "DF_valorant['Ranking'] = DF_valorant['Ranking'].replace('4th', '4')\n",
    "DF_valorant['Ranking'] = DF_valorant['Ranking'].replace('5th', '5')\n",
    "DF_valorant['Ranking'] = DF_valorant['Ranking'].replace('6th', '6')\n",
    "DF_valorant['Ranking'] = DF_valorant['Ranking'].replace('7th', '7')\n",
    "DF_valorant['Ranking'] = DF_valorant['Ranking'].replace('8th', '8')\n",
    "DF_valorant['Ranking'] = DF_valorant['Ranking'].replace('9th', '9')\n",
    "DF_valorant['Ranking'] = DF_valorant['Ranking'].replace('10th', '10')"
   ]
  },
  {
   "cell_type": "code",
   "execution_count": 103,
   "id": "1d5db655-4982-43ae-8b61-9e0cd24b0633",
   "metadata": {},
   "outputs": [
    {
     "data": {
      "text/html": [
       "<div>\n",
       "<style scoped>\n",
       "    .dataframe tbody tr th:only-of-type {\n",
       "        vertical-align: middle;\n",
       "    }\n",
       "\n",
       "    .dataframe tbody tr th {\n",
       "        vertical-align: top;\n",
       "    }\n",
       "\n",
       "    .dataframe thead th {\n",
       "        text-align: right;\n",
       "    }\n",
       "</style>\n",
       "<table border=\"1\" class=\"dataframe\">\n",
       "  <thead>\n",
       "    <tr style=\"text-align: right;\">\n",
       "      <th></th>\n",
       "      <th>Match Number</th>\n",
       "      <th>Map</th>\n",
       "      <th>Agent</th>\n",
       "      <th>Rounds Won</th>\n",
       "      <th>Rounds Lost</th>\n",
       "      <th>Kills</th>\n",
       "      <th>Deaths</th>\n",
       "      <th>Assists</th>\n",
       "      <th>KD Ratio</th>\n",
       "      <th>Combat Score</th>\n",
       "      <th>...</th>\n",
       "      <th>Ranking</th>\n",
       "      <th>Average Rank</th>\n",
       "      <th>Result</th>\n",
       "      <th>RR Change</th>\n",
       "      <th>RR</th>\n",
       "      <th>Rank</th>\n",
       "      <th>Overflow RR</th>\n",
       "      <th>Date</th>\n",
       "      <th>Act</th>\n",
       "      <th>Notes?</th>\n",
       "    </tr>\n",
       "  </thead>\n",
       "  <tbody>\n",
       "    <tr>\n",
       "      <th>0</th>\n",
       "      <td>171</td>\n",
       "      <td>Fracture</td>\n",
       "      <td>Killjoy</td>\n",
       "      <td>14</td>\n",
       "      <td>14</td>\n",
       "      <td>15</td>\n",
       "      <td>22</td>\n",
       "      <td>4</td>\n",
       "      <td>0.681818</td>\n",
       "      <td>4440</td>\n",
       "      <td>...</td>\n",
       "      <td>9</td>\n",
       "      <td>Platinum 3</td>\n",
       "      <td>Draw</td>\n",
       "      <td>Placements</td>\n",
       "      <td>Placements</td>\n",
       "      <td>Placements</td>\n",
       "      <td>Placements</td>\n",
       "      <td>1/14/2025</td>\n",
       "      <td>Season 2025 Act 1</td>\n",
       "      <td>NaN</td>\n",
       "    </tr>\n",
       "    <tr>\n",
       "      <th>1</th>\n",
       "      <td>172</td>\n",
       "      <td>Lotus</td>\n",
       "      <td>Raze</td>\n",
       "      <td>13</td>\n",
       "      <td>5</td>\n",
       "      <td>14</td>\n",
       "      <td>13</td>\n",
       "      <td>7</td>\n",
       "      <td>1.076923</td>\n",
       "      <td>4400</td>\n",
       "      <td>...</td>\n",
       "      <td>3</td>\n",
       "      <td>Diamond 1</td>\n",
       "      <td>Win</td>\n",
       "      <td>Placements</td>\n",
       "      <td>Placements</td>\n",
       "      <td>Placements</td>\n",
       "      <td>Placements</td>\n",
       "      <td>1/14/2025</td>\n",
       "      <td>Season 2025 Act 1</td>\n",
       "      <td>NaN</td>\n",
       "    </tr>\n",
       "    <tr>\n",
       "      <th>2</th>\n",
       "      <td>173</td>\n",
       "      <td>Split</td>\n",
       "      <td>Breach</td>\n",
       "      <td>12</td>\n",
       "      <td>14</td>\n",
       "      <td>20</td>\n",
       "      <td>17</td>\n",
       "      <td>13</td>\n",
       "      <td>1.176471</td>\n",
       "      <td>5850</td>\n",
       "      <td>...</td>\n",
       "      <td>5</td>\n",
       "      <td>Diamond 1</td>\n",
       "      <td>Loss</td>\n",
       "      <td>Placements</td>\n",
       "      <td>Placements</td>\n",
       "      <td>Placements</td>\n",
       "      <td>Placements</td>\n",
       "      <td>1/14/2025</td>\n",
       "      <td>Season 2025 Act 1</td>\n",
       "      <td>NaN</td>\n",
       "    </tr>\n",
       "    <tr>\n",
       "      <th>3</th>\n",
       "      <td>174</td>\n",
       "      <td>Fracture</td>\n",
       "      <td>Killjoy</td>\n",
       "      <td>15</td>\n",
       "      <td>13</td>\n",
       "      <td>18</td>\n",
       "      <td>20</td>\n",
       "      <td>6</td>\n",
       "      <td>0.900000</td>\n",
       "      <td>5304</td>\n",
       "      <td>...</td>\n",
       "      <td>7</td>\n",
       "      <td>Platinum 1</td>\n",
       "      <td>Win</td>\n",
       "      <td>Placements</td>\n",
       "      <td>Placements</td>\n",
       "      <td>Placements</td>\n",
       "      <td>Placements</td>\n",
       "      <td>1/15/2025</td>\n",
       "      <td>Season 2025 Act 1</td>\n",
       "      <td>NaN</td>\n",
       "    </tr>\n",
       "    <tr>\n",
       "      <th>4</th>\n",
       "      <td>175</td>\n",
       "      <td>Abyss</td>\n",
       "      <td>Sova</td>\n",
       "      <td>3</td>\n",
       "      <td>13</td>\n",
       "      <td>3</td>\n",
       "      <td>14</td>\n",
       "      <td>9</td>\n",
       "      <td>0.214286</td>\n",
       "      <td>1517</td>\n",
       "      <td>...</td>\n",
       "      <td>10</td>\n",
       "      <td>Diamond 2</td>\n",
       "      <td>Loss</td>\n",
       "      <td>Placements</td>\n",
       "      <td>1350</td>\n",
       "      <td>Platinum 2</td>\n",
       "      <td>50 RR</td>\n",
       "      <td>1/15/2025</td>\n",
       "      <td>Season 2025 Act 1</td>\n",
       "      <td>ended pi!</td>\n",
       "    </tr>\n",
       "    <tr>\n",
       "      <th>...</th>\n",
       "      <td>...</td>\n",
       "      <td>...</td>\n",
       "      <td>...</td>\n",
       "      <td>...</td>\n",
       "      <td>...</td>\n",
       "      <td>...</td>\n",
       "      <td>...</td>\n",
       "      <td>...</td>\n",
       "      <td>...</td>\n",
       "      <td>...</td>\n",
       "      <td>...</td>\n",
       "      <td>...</td>\n",
       "      <td>...</td>\n",
       "      <td>...</td>\n",
       "      <td>...</td>\n",
       "      <td>...</td>\n",
       "      <td>...</td>\n",
       "      <td>...</td>\n",
       "      <td>...</td>\n",
       "      <td>...</td>\n",
       "      <td>...</td>\n",
       "    </tr>\n",
       "    <tr>\n",
       "      <th>127</th>\n",
       "      <td>298</td>\n",
       "      <td>Ascent</td>\n",
       "      <td>Sova</td>\n",
       "      <td>13</td>\n",
       "      <td>10</td>\n",
       "      <td>25</td>\n",
       "      <td>15</td>\n",
       "      <td>9</td>\n",
       "      <td>1.666667</td>\n",
       "      <td>6678</td>\n",
       "      <td>...</td>\n",
       "      <td>1</td>\n",
       "      <td>Gold 1</td>\n",
       "      <td>Win</td>\n",
       "      <td>14</td>\n",
       "      <td>1246</td>\n",
       "      <td>Platinum 1</td>\n",
       "      <td>46 RR</td>\n",
       "      <td>9/24/2025</td>\n",
       "      <td>Season 2025 Act 5</td>\n",
       "      <td>NaN</td>\n",
       "    </tr>\n",
       "    <tr>\n",
       "      <th>128</th>\n",
       "      <td>299</td>\n",
       "      <td>Bind</td>\n",
       "      <td>Brimstone</td>\n",
       "      <td>13</td>\n",
       "      <td>5</td>\n",
       "      <td>15</td>\n",
       "      <td>11</td>\n",
       "      <td>8</td>\n",
       "      <td>1.363636</td>\n",
       "      <td>4189</td>\n",
       "      <td>...</td>\n",
       "      <td>4</td>\n",
       "      <td>Gold 1</td>\n",
       "      <td>Win</td>\n",
       "      <td>16</td>\n",
       "      <td>1262</td>\n",
       "      <td>Platinum 1</td>\n",
       "      <td>62 RR</td>\n",
       "      <td>9/25/2025</td>\n",
       "      <td>Season 2025 Act 5</td>\n",
       "      <td>NaN</td>\n",
       "    </tr>\n",
       "    <tr>\n",
       "      <th>129</th>\n",
       "      <td>300</td>\n",
       "      <td>Sunset</td>\n",
       "      <td>Gekko</td>\n",
       "      <td>13</td>\n",
       "      <td>8</td>\n",
       "      <td>19</td>\n",
       "      <td>14</td>\n",
       "      <td>8</td>\n",
       "      <td>1.357143</td>\n",
       "      <td>5568</td>\n",
       "      <td>...</td>\n",
       "      <td>2</td>\n",
       "      <td>Platinum 2</td>\n",
       "      <td>Win</td>\n",
       "      <td>30</td>\n",
       "      <td>1292</td>\n",
       "      <td>Platinum 1</td>\n",
       "      <td>92 RR</td>\n",
       "      <td>9/26/2025</td>\n",
       "      <td>Season 2025 Act 5</td>\n",
       "      <td>NaN</td>\n",
       "    </tr>\n",
       "    <tr>\n",
       "      <th>130</th>\n",
       "      <td>301</td>\n",
       "      <td>Lotus</td>\n",
       "      <td>Omen</td>\n",
       "      <td>13</td>\n",
       "      <td>10</td>\n",
       "      <td>20</td>\n",
       "      <td>15</td>\n",
       "      <td>11</td>\n",
       "      <td>1.333333</td>\n",
       "      <td>5461</td>\n",
       "      <td>...</td>\n",
       "      <td>5</td>\n",
       "      <td>Platinum 1</td>\n",
       "      <td>Win</td>\n",
       "      <td>21</td>\n",
       "      <td>1313</td>\n",
       "      <td>Platinum 2</td>\n",
       "      <td>13 RR</td>\n",
       "      <td>9/26/2025</td>\n",
       "      <td>Season 2025 Act 5</td>\n",
       "      <td>NaN</td>\n",
       "    </tr>\n",
       "    <tr>\n",
       "      <th>131</th>\n",
       "      <td>302</td>\n",
       "      <td>Sunset</td>\n",
       "      <td>Sova</td>\n",
       "      <td>9</td>\n",
       "      <td>13</td>\n",
       "      <td>10</td>\n",
       "      <td>16</td>\n",
       "      <td>4</td>\n",
       "      <td>0.625000</td>\n",
       "      <td>2763</td>\n",
       "      <td>...</td>\n",
       "      <td>9</td>\n",
       "      <td>Platinum 2</td>\n",
       "      <td>Loss</td>\n",
       "      <td>-19</td>\n",
       "      <td>1300</td>\n",
       "      <td>Platinum 2</td>\n",
       "      <td>0 RR</td>\n",
       "      <td>9/26/2025</td>\n",
       "      <td>Season 2025 Act 5</td>\n",
       "      <td>NaN</td>\n",
       "    </tr>\n",
       "  </tbody>\n",
       "</table>\n",
       "<p>132 rows × 26 columns</p>\n",
       "</div>"
      ],
      "text/plain": [
       "     Match Number       Map      Agent  Rounds Won  Rounds Lost  Kills  \\\n",
       "0             171  Fracture    Killjoy          14           14     15   \n",
       "1             172     Lotus       Raze          13            5     14   \n",
       "2             173     Split     Breach          12           14     20   \n",
       "3             174  Fracture    Killjoy          15           13     18   \n",
       "4             175     Abyss       Sova           3           13      3   \n",
       "..            ...       ...        ...         ...          ...    ...   \n",
       "127           298    Ascent       Sova          13           10     25   \n",
       "128           299      Bind  Brimstone          13            5     15   \n",
       "129           300    Sunset      Gekko          13            8     19   \n",
       "130           301     Lotus       Omen          13           10     20   \n",
       "131           302    Sunset       Sova           9           13     10   \n",
       "\n",
       "     Deaths  Assists  KD Ratio  Combat Score  ...  Ranking  Average Rank  \\\n",
       "0        22        4  0.681818          4440  ...        9    Platinum 3   \n",
       "1        13        7  1.076923          4400  ...        3     Diamond 1   \n",
       "2        17       13  1.176471          5850  ...        5     Diamond 1   \n",
       "3        20        6  0.900000          5304  ...        7    Platinum 1   \n",
       "4        14        9  0.214286          1517  ...       10     Diamond 2   \n",
       "..      ...      ...       ...           ...  ...      ...           ...   \n",
       "127      15        9  1.666667          6678  ...        1        Gold 1   \n",
       "128      11        8  1.363636          4189  ...        4        Gold 1   \n",
       "129      14        8  1.357143          5568  ...        2    Platinum 2   \n",
       "130      15       11  1.333333          5461  ...        5    Platinum 1   \n",
       "131      16        4  0.625000          2763  ...        9    Platinum 2   \n",
       "\n",
       "     Result   RR Change          RR        Rank Overflow RR       Date  \\\n",
       "0      Draw  Placements  Placements  Placements  Placements  1/14/2025   \n",
       "1       Win  Placements  Placements  Placements  Placements  1/14/2025   \n",
       "2      Loss  Placements  Placements  Placements  Placements  1/14/2025   \n",
       "3       Win  Placements  Placements  Placements  Placements  1/15/2025   \n",
       "4      Loss  Placements        1350  Platinum 2       50 RR  1/15/2025   \n",
       "..      ...         ...         ...         ...         ...        ...   \n",
       "127     Win          14        1246  Platinum 1       46 RR  9/24/2025   \n",
       "128     Win          16        1262  Platinum 1       62 RR  9/25/2025   \n",
       "129     Win          30        1292  Platinum 1       92 RR  9/26/2025   \n",
       "130     Win          21        1313  Platinum 2       13 RR  9/26/2025   \n",
       "131    Loss         -19        1300  Platinum 2        0 RR  9/26/2025   \n",
       "\n",
       "                   Act     Notes?  \n",
       "0    Season 2025 Act 1        NaN  \n",
       "1    Season 2025 Act 1        NaN  \n",
       "2    Season 2025 Act 1        NaN  \n",
       "3    Season 2025 Act 1        NaN  \n",
       "4    Season 2025 Act 1  ended pi!  \n",
       "..                 ...        ...  \n",
       "127  Season 2025 Act 5        NaN  \n",
       "128  Season 2025 Act 5        NaN  \n",
       "129  Season 2025 Act 5        NaN  \n",
       "130  Season 2025 Act 5        NaN  \n",
       "131  Season 2025 Act 5        NaN  \n",
       "\n",
       "[132 rows x 26 columns]"
      ]
     },
     "execution_count": 103,
     "metadata": {},
     "output_type": "execute_result"
    }
   ],
   "source": [
    "DF_valorant"
   ]
  },
  {
   "cell_type": "code",
   "execution_count": 105,
   "id": "0db54d9e-33fa-4178-bd31-938518ad5546",
   "metadata": {},
   "outputs": [],
   "source": [
    "DF_valorant['Ranking'] = DF_valorant['Ranking'].apply(lambda x: int(x))"
   ]
  },
  {
   "cell_type": "code",
   "execution_count": 106,
   "id": "0362ae7d-2657-4d4d-93fe-5ad3bcc186b0",
   "metadata": {},
   "outputs": [
    {
     "data": {
      "text/plain": [
       "Match Number              int64\n",
       "Map                      object\n",
       "Agent                    object\n",
       "Rounds Won                int64\n",
       "Rounds Lost               int64\n",
       "Kills                     int64\n",
       "Deaths                    int64\n",
       "Assists                   int64\n",
       "KD Ratio                float64\n",
       "Combat Score              int64\n",
       "Average Combat Score    float64\n",
       "Tracker Score             int64\n",
       "Damage Dealt              int64\n",
       "Damage Taken              int64\n",
       "Damage Delta            float64\n",
       "Round Win Percentage    float64\n",
       "Ranking                   int64\n",
       "Average Rank             object\n",
       "Result                   object\n",
       "RR Change                object\n",
       "RR                       object\n",
       "Rank                     object\n",
       "Overflow RR              object\n",
       "Date                     object\n",
       "Act                      object\n",
       "Notes?                   object\n",
       "dtype: object"
      ]
     },
     "execution_count": 106,
     "metadata": {},
     "output_type": "execute_result"
    }
   ],
   "source": [
    "DF_valorant.dtypes"
   ]
  },
  {
   "cell_type": "code",
   "execution_count": 110,
   "id": "f4c93b11-aa4e-429e-8258-ab3dbf8dde7c",
   "metadata": {},
   "outputs": [
    {
     "data": {
      "application/vnd.plotly.v1+json": {
       "config": {
        "plotlyServerURL": "https://plot.ly"
       },
       "data": [
        {
         "bingroup": "x",
         "histnorm": "probability density",
         "hovertemplate": "Map=%{x}<br>probability density=%{y}<extra></extra>",
         "legendgroup": "",
         "marker": {
          "color": "mediumslateblue",
          "pattern": {
           "shape": ""
          }
         },
         "name": "",
         "orientation": "v",
         "showlegend": false,
         "type": "histogram",
         "x": [
          "Fracture",
          "Lotus",
          "Split",
          "Fracture",
          "Abyss",
          "Haven",
          "Lotus",
          "Haven",
          "Fracture",
          "Pearl",
          "Bind",
          "Abyss",
          "Abyss",
          "Pearl",
          "Pearl",
          "Bind",
          "Haven",
          "Split",
          "Fracture",
          "Fracture",
          "Pearl",
          "Abyss",
          "Lotus",
          "Lotus",
          "Bind",
          "Abyss",
          "Haven",
          "Bind",
          "Fracture",
          "Pearl",
          "Pearl",
          "Fracture",
          "Pearl",
          "Haven",
          "Fracture",
          "Split",
          "Lotus",
          "Haven",
          "Lotus",
          "Bind",
          "Fracture",
          "Abyss",
          "Abyss",
          "Bind",
          "Bind",
          "Haven",
          "Fracture",
          "Pearl",
          "Abyss",
          "Fracture",
          "Split",
          "Lotus",
          "Lotus",
          "Bind",
          "Fracture",
          "Pearl",
          "Haven",
          "Fracture",
          "Pearl",
          "Haven",
          "Bind",
          "Abyss",
          "Bind",
          "Lotus",
          "Fracture",
          "Haven",
          "Abyss",
          "Haven",
          "Lotus",
          "Pearl",
          "Fracture",
          "Fracture",
          "Icebox",
          "Ascent",
          "Split",
          "Lotus",
          "Ascent",
          "Haven",
          "Fracture",
          "Icebox",
          "Haven",
          "Icebox",
          "Lotus",
          "Haven",
          "Fracture",
          "Pearl",
          "Icebox",
          "Icebox",
          "Lotus",
          "Split",
          "Fracture",
          "Split",
          "Ascent",
          "Haven",
          "Pearl",
          "Icebox",
          "Sunset",
          "Haven",
          "Icebox",
          "Lotus",
          "Haven",
          "Ascent",
          "Split",
          "Sunset",
          "Sunset",
          "Pearl",
          "Haven",
          "Lotus",
          "Icebox",
          "Abyss",
          "Lotus",
          "Bind",
          "Sunset",
          "Abyss",
          "Ascent",
          "Haven",
          "Corrode",
          "Haven",
          "Lotus",
          "Sunset",
          "Sunset",
          "Haven",
          "Corrode",
          "Abyss",
          "Lotus",
          "Ascent",
          "Abyss",
          "Ascent",
          "Bind",
          "Sunset",
          "Lotus",
          "Sunset"
         ],
         "xaxis": "x",
         "yaxis": "y"
        }
       ],
       "layout": {
        "bargap": 0.08,
        "barmode": "relative",
        "legend": {
         "tracegroupgap": 0
        },
        "margin": {
         "t": 60
        },
        "template": {
         "data": {
          "bar": [
           {
            "error_x": {
             "color": "#2a3f5f"
            },
            "error_y": {
             "color": "#2a3f5f"
            },
            "marker": {
             "line": {
              "color": "#E5ECF6",
              "width": 0.5
             },
             "pattern": {
              "fillmode": "overlay",
              "size": 10,
              "solidity": 0.2
             }
            },
            "type": "bar"
           }
          ],
          "barpolar": [
           {
            "marker": {
             "line": {
              "color": "#E5ECF6",
              "width": 0.5
             },
             "pattern": {
              "fillmode": "overlay",
              "size": 10,
              "solidity": 0.2
             }
            },
            "type": "barpolar"
           }
          ],
          "carpet": [
           {
            "aaxis": {
             "endlinecolor": "#2a3f5f",
             "gridcolor": "white",
             "linecolor": "white",
             "minorgridcolor": "white",
             "startlinecolor": "#2a3f5f"
            },
            "baxis": {
             "endlinecolor": "#2a3f5f",
             "gridcolor": "white",
             "linecolor": "white",
             "minorgridcolor": "white",
             "startlinecolor": "#2a3f5f"
            },
            "type": "carpet"
           }
          ],
          "choropleth": [
           {
            "colorbar": {
             "outlinewidth": 0,
             "ticks": ""
            },
            "type": "choropleth"
           }
          ],
          "contour": [
           {
            "colorbar": {
             "outlinewidth": 0,
             "ticks": ""
            },
            "colorscale": [
             [
              0,
              "#0d0887"
             ],
             [
              0.1111111111111111,
              "#46039f"
             ],
             [
              0.2222222222222222,
              "#7201a8"
             ],
             [
              0.3333333333333333,
              "#9c179e"
             ],
             [
              0.4444444444444444,
              "#bd3786"
             ],
             [
              0.5555555555555556,
              "#d8576b"
             ],
             [
              0.6666666666666666,
              "#ed7953"
             ],
             [
              0.7777777777777778,
              "#fb9f3a"
             ],
             [
              0.8888888888888888,
              "#fdca26"
             ],
             [
              1,
              "#f0f921"
             ]
            ],
            "type": "contour"
           }
          ],
          "contourcarpet": [
           {
            "colorbar": {
             "outlinewidth": 0,
             "ticks": ""
            },
            "type": "contourcarpet"
           }
          ],
          "heatmap": [
           {
            "colorbar": {
             "outlinewidth": 0,
             "ticks": ""
            },
            "colorscale": [
             [
              0,
              "#0d0887"
             ],
             [
              0.1111111111111111,
              "#46039f"
             ],
             [
              0.2222222222222222,
              "#7201a8"
             ],
             [
              0.3333333333333333,
              "#9c179e"
             ],
             [
              0.4444444444444444,
              "#bd3786"
             ],
             [
              0.5555555555555556,
              "#d8576b"
             ],
             [
              0.6666666666666666,
              "#ed7953"
             ],
             [
              0.7777777777777778,
              "#fb9f3a"
             ],
             [
              0.8888888888888888,
              "#fdca26"
             ],
             [
              1,
              "#f0f921"
             ]
            ],
            "type": "heatmap"
           }
          ],
          "histogram": [
           {
            "marker": {
             "pattern": {
              "fillmode": "overlay",
              "size": 10,
              "solidity": 0.2
             }
            },
            "type": "histogram"
           }
          ],
          "histogram2d": [
           {
            "colorbar": {
             "outlinewidth": 0,
             "ticks": ""
            },
            "colorscale": [
             [
              0,
              "#0d0887"
             ],
             [
              0.1111111111111111,
              "#46039f"
             ],
             [
              0.2222222222222222,
              "#7201a8"
             ],
             [
              0.3333333333333333,
              "#9c179e"
             ],
             [
              0.4444444444444444,
              "#bd3786"
             ],
             [
              0.5555555555555556,
              "#d8576b"
             ],
             [
              0.6666666666666666,
              "#ed7953"
             ],
             [
              0.7777777777777778,
              "#fb9f3a"
             ],
             [
              0.8888888888888888,
              "#fdca26"
             ],
             [
              1,
              "#f0f921"
             ]
            ],
            "type": "histogram2d"
           }
          ],
          "histogram2dcontour": [
           {
            "colorbar": {
             "outlinewidth": 0,
             "ticks": ""
            },
            "colorscale": [
             [
              0,
              "#0d0887"
             ],
             [
              0.1111111111111111,
              "#46039f"
             ],
             [
              0.2222222222222222,
              "#7201a8"
             ],
             [
              0.3333333333333333,
              "#9c179e"
             ],
             [
              0.4444444444444444,
              "#bd3786"
             ],
             [
              0.5555555555555556,
              "#d8576b"
             ],
             [
              0.6666666666666666,
              "#ed7953"
             ],
             [
              0.7777777777777778,
              "#fb9f3a"
             ],
             [
              0.8888888888888888,
              "#fdca26"
             ],
             [
              1,
              "#f0f921"
             ]
            ],
            "type": "histogram2dcontour"
           }
          ],
          "mesh3d": [
           {
            "colorbar": {
             "outlinewidth": 0,
             "ticks": ""
            },
            "type": "mesh3d"
           }
          ],
          "parcoords": [
           {
            "line": {
             "colorbar": {
              "outlinewidth": 0,
              "ticks": ""
             }
            },
            "type": "parcoords"
           }
          ],
          "pie": [
           {
            "automargin": true,
            "type": "pie"
           }
          ],
          "scatter": [
           {
            "fillpattern": {
             "fillmode": "overlay",
             "size": 10,
             "solidity": 0.2
            },
            "type": "scatter"
           }
          ],
          "scatter3d": [
           {
            "line": {
             "colorbar": {
              "outlinewidth": 0,
              "ticks": ""
             }
            },
            "marker": {
             "colorbar": {
              "outlinewidth": 0,
              "ticks": ""
             }
            },
            "type": "scatter3d"
           }
          ],
          "scattercarpet": [
           {
            "marker": {
             "colorbar": {
              "outlinewidth": 0,
              "ticks": ""
             }
            },
            "type": "scattercarpet"
           }
          ],
          "scattergeo": [
           {
            "marker": {
             "colorbar": {
              "outlinewidth": 0,
              "ticks": ""
             }
            },
            "type": "scattergeo"
           }
          ],
          "scattergl": [
           {
            "marker": {
             "colorbar": {
              "outlinewidth": 0,
              "ticks": ""
             }
            },
            "type": "scattergl"
           }
          ],
          "scattermap": [
           {
            "marker": {
             "colorbar": {
              "outlinewidth": 0,
              "ticks": ""
             }
            },
            "type": "scattermap"
           }
          ],
          "scattermapbox": [
           {
            "marker": {
             "colorbar": {
              "outlinewidth": 0,
              "ticks": ""
             }
            },
            "type": "scattermapbox"
           }
          ],
          "scatterpolar": [
           {
            "marker": {
             "colorbar": {
              "outlinewidth": 0,
              "ticks": ""
             }
            },
            "type": "scatterpolar"
           }
          ],
          "scatterpolargl": [
           {
            "marker": {
             "colorbar": {
              "outlinewidth": 0,
              "ticks": ""
             }
            },
            "type": "scatterpolargl"
           }
          ],
          "scatterternary": [
           {
            "marker": {
             "colorbar": {
              "outlinewidth": 0,
              "ticks": ""
             }
            },
            "type": "scatterternary"
           }
          ],
          "surface": [
           {
            "colorbar": {
             "outlinewidth": 0,
             "ticks": ""
            },
            "colorscale": [
             [
              0,
              "#0d0887"
             ],
             [
              0.1111111111111111,
              "#46039f"
             ],
             [
              0.2222222222222222,
              "#7201a8"
             ],
             [
              0.3333333333333333,
              "#9c179e"
             ],
             [
              0.4444444444444444,
              "#bd3786"
             ],
             [
              0.5555555555555556,
              "#d8576b"
             ],
             [
              0.6666666666666666,
              "#ed7953"
             ],
             [
              0.7777777777777778,
              "#fb9f3a"
             ],
             [
              0.8888888888888888,
              "#fdca26"
             ],
             [
              1,
              "#f0f921"
             ]
            ],
            "type": "surface"
           }
          ],
          "table": [
           {
            "cells": {
             "fill": {
              "color": "#EBF0F8"
             },
             "line": {
              "color": "white"
             }
            },
            "header": {
             "fill": {
              "color": "#C8D4E3"
             },
             "line": {
              "color": "white"
             }
            },
            "type": "table"
           }
          ]
         },
         "layout": {
          "annotationdefaults": {
           "arrowcolor": "#2a3f5f",
           "arrowhead": 0,
           "arrowwidth": 1
          },
          "autotypenumbers": "strict",
          "coloraxis": {
           "colorbar": {
            "outlinewidth": 0,
            "ticks": ""
           }
          },
          "colorscale": {
           "diverging": [
            [
             0,
             "#8e0152"
            ],
            [
             0.1,
             "#c51b7d"
            ],
            [
             0.2,
             "#de77ae"
            ],
            [
             0.3,
             "#f1b6da"
            ],
            [
             0.4,
             "#fde0ef"
            ],
            [
             0.5,
             "#f7f7f7"
            ],
            [
             0.6,
             "#e6f5d0"
            ],
            [
             0.7,
             "#b8e186"
            ],
            [
             0.8,
             "#7fbc41"
            ],
            [
             0.9,
             "#4d9221"
            ],
            [
             1,
             "#276419"
            ]
           ],
           "sequential": [
            [
             0,
             "#0d0887"
            ],
            [
             0.1111111111111111,
             "#46039f"
            ],
            [
             0.2222222222222222,
             "#7201a8"
            ],
            [
             0.3333333333333333,
             "#9c179e"
            ],
            [
             0.4444444444444444,
             "#bd3786"
            ],
            [
             0.5555555555555556,
             "#d8576b"
            ],
            [
             0.6666666666666666,
             "#ed7953"
            ],
            [
             0.7777777777777778,
             "#fb9f3a"
            ],
            [
             0.8888888888888888,
             "#fdca26"
            ],
            [
             1,
             "#f0f921"
            ]
           ],
           "sequentialminus": [
            [
             0,
             "#0d0887"
            ],
            [
             0.1111111111111111,
             "#46039f"
            ],
            [
             0.2222222222222222,
             "#7201a8"
            ],
            [
             0.3333333333333333,
             "#9c179e"
            ],
            [
             0.4444444444444444,
             "#bd3786"
            ],
            [
             0.5555555555555556,
             "#d8576b"
            ],
            [
             0.6666666666666666,
             "#ed7953"
            ],
            [
             0.7777777777777778,
             "#fb9f3a"
            ],
            [
             0.8888888888888888,
             "#fdca26"
            ],
            [
             1,
             "#f0f921"
            ]
           ]
          },
          "colorway": [
           "#636efa",
           "#EF553B",
           "#00cc96",
           "#ab63fa",
           "#FFA15A",
           "#19d3f3",
           "#FF6692",
           "#B6E880",
           "#FF97FF",
           "#FECB52"
          ],
          "font": {
           "color": "#2a3f5f"
          },
          "geo": {
           "bgcolor": "white",
           "lakecolor": "white",
           "landcolor": "#E5ECF6",
           "showlakes": true,
           "showland": true,
           "subunitcolor": "white"
          },
          "hoverlabel": {
           "align": "left"
          },
          "hovermode": "closest",
          "mapbox": {
           "style": "light"
          },
          "paper_bgcolor": "white",
          "plot_bgcolor": "#E5ECF6",
          "polar": {
           "angularaxis": {
            "gridcolor": "white",
            "linecolor": "white",
            "ticks": ""
           },
           "bgcolor": "#E5ECF6",
           "radialaxis": {
            "gridcolor": "white",
            "linecolor": "white",
            "ticks": ""
           }
          },
          "scene": {
           "xaxis": {
            "backgroundcolor": "#E5ECF6",
            "gridcolor": "white",
            "gridwidth": 2,
            "linecolor": "white",
            "showbackground": true,
            "ticks": "",
            "zerolinecolor": "white"
           },
           "yaxis": {
            "backgroundcolor": "#E5ECF6",
            "gridcolor": "white",
            "gridwidth": 2,
            "linecolor": "white",
            "showbackground": true,
            "ticks": "",
            "zerolinecolor": "white"
           },
           "zaxis": {
            "backgroundcolor": "#E5ECF6",
            "gridcolor": "white",
            "gridwidth": 2,
            "linecolor": "white",
            "showbackground": true,
            "ticks": "",
            "zerolinecolor": "white"
           }
          },
          "shapedefaults": {
           "line": {
            "color": "#2a3f5f"
           }
          },
          "ternary": {
           "aaxis": {
            "gridcolor": "white",
            "linecolor": "white",
            "ticks": ""
           },
           "baxis": {
            "gridcolor": "white",
            "linecolor": "white",
            "ticks": ""
           },
           "bgcolor": "#E5ECF6",
           "caxis": {
            "gridcolor": "white",
            "linecolor": "white",
            "ticks": ""
           }
          },
          "title": {
           "x": 0.05
          },
          "xaxis": {
           "automargin": true,
           "gridcolor": "white",
           "linecolor": "white",
           "ticks": "",
           "title": {
            "standoff": 15
           },
           "zerolinecolor": "white",
           "zerolinewidth": 2
          },
          "yaxis": {
           "automargin": true,
           "gridcolor": "white",
           "linecolor": "white",
           "ticks": "",
           "title": {
            "standoff": 15
           },
           "zerolinecolor": "white",
           "zerolinewidth": 2
          }
         }
        },
        "title": {
         "text": "Valorant Map Frequency",
         "x": 0.5
        },
        "xaxis": {
         "anchor": "y",
         "domain": [
          0,
          1
         ],
         "title": {
          "text": "Valorant Map"
         }
        },
        "yaxis": {
         "anchor": "x",
         "domain": [
          0,
          1
         ],
         "title": {
          "text": "Proportion of Games"
         }
        }
       }
      },
      "image/png": "[encoded data removed]"
     },
     "metadata": {},
     "output_type": "display_data"
    }
   ],
   "source": [
    "map_frequency = px.histogram(DF_valorant,\n",
    "                  x='Map', \n",
    "                  histnorm='probability density',\n",
    "                  color_discrete_sequence=['mediumslateblue']\n",
    "                            )\n",
    "\n",
    "map_frequency.update_layout(title='Valorant Map Frequency',\n",
    "                  title_x=0.5,\n",
    "                  bargap=0.08,\n",
    "                  xaxis_title=\"Valorant Map\",\n",
    "                  yaxis_title=\"Proportion of Games\")\n",
    "map_frequency.show()"
   ]
  },
  {
   "cell_type": "code",
   "execution_count": null,
   "id": "94e242b8-2a92-4fe8-8e9c-8ced2cb22f0b",
   "metadata": {},
   "outputs": [],
   "source": []
  }
 ],
 "metadata": {
  "kernelspec": {
   "display_name": "Python [conda env:base] *",
   "language": "python",
   "name": "conda-base-py"
  },
  "language_info": {
   "codemirror_mode": {
    "name": "ipython",
    "version": 3
   },
   "file_extension": ".py",
   "mimetype": "text/x-python",
   "name": "python",
   "nbconvert_exporter": "python",
   "pygments_lexer": "ipython3",
   "version": "3.13.5"
  }
 },
 "nbformat": 4,
 "nbformat_minor": 5
}
